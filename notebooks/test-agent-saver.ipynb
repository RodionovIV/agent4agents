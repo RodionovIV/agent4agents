{
 "cells": [
  {
   "cell_type": "code",
   "execution_count": 6,
   "id": "dccb4219-2b4e-42e5-b751-0118c4bcac70",
   "metadata": {},
   "outputs": [],
   "source": [
    "from langchain.agents import initialize_agent, AgentType, Tool\n",
    "from langchain.memory import ConversationBufferMemory\n",
    "from langgraph.graph import StateGraph\n",
    "from langchain.chat_models import ChatOpenAI\n",
    "from langchain_gigachat.chat_models import GigaChat\n",
    "from langchain_gigachat.tools.giga_tool import giga_tool\n",
    "\n",
    "from langchain.schema import HumanMessage, SystemMessage, Document, AIMessage\n",
    "from langchain.vectorstores import FAISS\n",
    "from langchain.embeddings import SentenceTransformerEmbeddings\n",
    "from langchain.chains import RetrievalQA\n",
    "from langchain_community.tools import DuckDuckGoSearchRun\n",
    "from langgraph.types import Command\n",
    "from langgraph.prebuilt import create_react_agent\n",
    "from langgraph.checkpoint.memory import MemorySaver\n",
    "from langgraph.graph import StateGraph, END, MessagesState, START\n",
    "from typing import TypedDict, Optional, Literal, List, Dict\n",
    "from typing_extensions import TypedDict\n",
    "from pydantic import BaseModel, Field\n",
    "\n",
    "from pathlib import Path\n",
    "import time\n",
    "import datetime\n",
    "import warnings\n",
    "import os\n",
    "import re"
   ]
  },
  {
   "cell_type": "code",
   "execution_count": 7,
   "id": "edcfef39-109a-4eef-98f5-90fee14a120e",
   "metadata": {},
   "outputs": [],
   "source": [
    "warnings.filterwarnings(\"ignore\")"
   ]
  },
  {
   "cell_type": "code",
   "execution_count": 8,
   "id": "eceaa95a-0112-467c-8a61-820700c9e4f4",
   "metadata": {},
   "outputs": [],
   "source": [
    "os.environ[\"GIGACHAT_CREDENTIALS\"] = \"Yjc1YWZhNTItMzYwYS00NmU4LTk4YjctZjU4YzAwMDIyMGJmOjJhNWE3YmVhLTAyYzctNGJhNy05NWE3LWEzY2YwNGQzYzZiNw==\""
   ]
  },
  {
   "cell_type": "code",
   "execution_count": 9,
   "id": "2f0a9b24-144c-41c1-a8d3-d8b952730f9d",
   "metadata": {},
   "outputs": [],
   "source": [
    "llm = GigaChat(\n",
    "    model=\"GigaChat-2-Max\",\n",
    "    verify_ssl_certs=False,\n",
    "    profanity_check=False,\n",
    "    streaming=False,\n",
    "    max_tokens=8192,\n",
    "    temperature=0.3,\n",
    "    repetition_penalty=1.01,\n",
    "    timeout=60\n",
    ")"
   ]
  },
  {
   "cell_type": "code",
   "execution_count": 10,
   "id": "78bcdacf-8630-4649-9287-8fc308b3df5d",
   "metadata": {},
   "outputs": [],
   "source": [
    "class SaveResult(BaseModel):\n",
    "    status: str = Field(description=\"Статус сохранения файла\")\n",
    "    message: str = Field(description=\"Сообщение о результате сохранения в файл\")\n",
    "\n",
    "few_shot_examples_save = [\n",
    "    {\n",
    "        \"request\": \"Можешь ли ты отправить сохранить строку 'Мама мыла раму' в файл по пути '/home/ts777/Code/agent4agents/test/test_msg.txt\",\n",
    "        \"params\": {\"file_path\": \"/home/ts777/Code/agent4agents/test/test_msg.txt\", \"content\": \"Мама мыла раму\"},\n",
    "    }\n",
    "]\n",
    "\n",
    "@giga_tool(few_shot_examples=few_shot_examples_save)\n",
    "def save_file(\n",
    "    file_path: str = Field(description=\"Путь до файла, в который нужно сохранить содержимое.\"),\n",
    "    content: str = Field(description=\"Информация, которую нужно сохранить в файл.\"),\n",
    ") -> SaveResult:\n",
    "    \"\"\"Сохранить информацию в файл\"\"\"\n",
    "    print(f\"! save_file to {file_path}, content: {content}\")\n",
    "    try:\n",
    "        match_python = re.search(r'```python\\s*(.*?)\\s*```', content, re.DOTALL)\n",
    "        if match_python:\n",
    "            content = match_python.group(1)\n",
    "        with open(file_path, \"w\") as f:\n",
    "            f.write(content)\n",
    "        return SaveResult(status=\"OK\", message=\"Файл успешно сохранен!\")\n",
    "    except Exception as e:\n",
    "        return SaveResult(status=\"FAIL\", message=f\"Не удалось сохранить файл, ошибка: {e}\")"
   ]
  },
  {
   "cell_type": "code",
   "execution_count": 11,
   "id": "2e013583-4330-48cc-a198-58e7e909bf12",
   "metadata": {},
   "outputs": [],
   "source": [
    "class ReadResult(BaseModel):\n",
    "    status: str = Field(description=\"Статус чтения файла\")\n",
    "    message: str = Field(description=\"Сообщение о результате чтения файла\")\n",
    "    result: str = Field(description=\"Содержимое файла\")\n",
    "\n",
    "few_shot_examples_read = [\n",
    "    {\n",
    "        \"request\": \"Можешь ли ты порочитать содержимое файла '/home/ts777/Code/agent4agents/test/test_msg.txt\",\n",
    "        \"params\": {\"file_path\": \"/home/ts777/Code/agent4agents/test/test_msg.txt\"},\n",
    "    }\n",
    "]\n",
    "\n",
    "@giga_tool(few_shot_examples=few_shot_examples_save)\n",
    "def read_file(\n",
    "    file_path: str = Field(description=\"Путь до файла, который нужно прочитать.\"),\n",
    ") -> ReadResult:\n",
    "    \"\"\"Прочитать информацию из файла\"\"\"\n",
    "    print(f\"! read_file from {file_path}\")\n",
    "    try:\n",
    "        with open(file_path, \"r\") as f:\n",
    "            content = f.read()\n",
    "        if file_path.endswith(\".py\"):\n",
    "            content = (\n",
    "                \"```python\\n\"\n",
    "                f\"{content}\"\n",
    "                \"\\n```\")\n",
    "        return ReadResult(status=\"OK\", message=\"Файл успешно прочитан!\", result=content)\n",
    "    except Exception as e:\n",
    "        return ReadResult(status=\"FAIL\", message=f\"Не удалось прочитать файл, ошибка: {e}\", result=None)"
   ]
  },
  {
   "cell_type": "code",
   "execution_count": 12,
   "id": "f652002b-3e44-4f45-ae10-d950875c6f74",
   "metadata": {},
   "outputs": [],
   "source": [
    "class MkdirResult(BaseModel):\n",
    "    status: str = Field(description=\"Статус создания директории\")\n",
    "    message: str = Field(description=\"Сообщение о результате создания директории\")\n",
    "\n",
    "few_shot_examples_mkdir = [\n",
    "    {\n",
    "        \"request\": \"Можешь ли ты создать директорию '/home/ts777/Code/agent4agents/test_dir\",\n",
    "        \"params\": {\"path\": \"/home/ts777/Code/agent4agents/test/test_dir\"},\n",
    "    }\n",
    "]\n",
    "\n",
    "@giga_tool(few_shot_examples=few_shot_examples_mkdir)\n",
    "def create_dir(\n",
    "    path: str = Field(description=\"Путь до директории, которую нужно создать.\")\n",
    ") -> MkdirResult:\n",
    "    \"\"\"Создать директорию\"\"\"\n",
    "    print(f\"! create_dir {path}\")\n",
    "    try:\n",
    "        if Path(path).exists():\n",
    "            return MkdirResult(status=\"OK\", message=\"Директория уже существует!\")    \n",
    "        Path(path).mkdir(parents=True, exist_ok=True)\n",
    "        return MkdirResult(status=\"OK\", message=\"Директория успешно создана!\")\n",
    "    except:\n",
    "        return MkdirResult(status=\"FAIL\", message=\"Не удалось создать директорию\")"
   ]
  },
  {
   "cell_type": "code",
   "execution_count": 13,
   "id": "90d17639-2203-4f1f-8677-95806acef8d0",
   "metadata": {},
   "outputs": [],
   "source": [
    "class PythonResult(BaseModel):\n",
    "    status: str = Field(description=\"Статус запуска Python-кода\")\n",
    "    message: str = Field(description=\"Сообщение о результате запуска Python-кода.\")\n",
    "\n",
    "test_code = \"\"\"```python\n",
    "name = 'Ivan'\n",
    "print(f'Hello, {name}!')\n",
    "```python\n",
    "\"\"\"\n",
    "\n",
    "few_shot_examples_code = [\n",
    "    {\n",
    "        \"request\": f\"Можешь ли ты запустить код {test_code}\",\n",
    "        \"params\": {\"code_str\": f\"{test_code}\"},\n",
    "    }\n",
    "]\n",
    "\n",
    "@giga_tool(few_shot_examples=few_shot_examples_code)\n",
    "def run_python_code(\n",
    "    code_str: str = Field(description=\"Строка с Python-кодом, который нужно запустить.\")\n",
    ") -> PythonResult:\n",
    "    \"\"\"Сохранить информацию в файл\"\"\"\n",
    "    print(f\"! run_python_code {code_str}\")\n",
    "    try:\n",
    "        match_python = re.search(r'```python\\s*(.*?)\\s*```', code_str, re.DOTALL)\n",
    "        if match_python:\n",
    "            code = match_python.group(1)\n",
    "            result = exec(code)\n",
    "        else:\n",
    "            return PythonResult(status=\"FAIL\", message=\"Не удалось выделить информацию из блока ```python[code]```.\")\n",
    "        return PythonResult(status=\"OK\", message=f\"Код успешно запущен! Результат: {result}\")\n",
    "    except Exception as e:\n",
    "        return PythonResult(status=\"FAIL\", message=f\"Не удалось запустить код, ошибка: {e}\")"
   ]
  },
  {
   "cell_type": "code",
   "execution_count": 14,
   "id": "5bfdf0d0-6980-48d1-a53c-ebfa558c6fd7",
   "metadata": {},
   "outputs": [],
   "source": [
    "with open(\"../sources/project_structure.md\", \"r\") as f:\n",
    "    project_structure = f.read()\n",
    "\n",
    "with open(\"../sources/project_content.md\", \"r\") as f:\n",
    "    project_content = f.read()\n",
    "    \n",
    "with open(\"../tests/test_project_desc.md\", \"r\") as f:\n",
    "    project_task = f.read()"
   ]
  },
  {
   "cell_type": "code",
   "execution_count": 69,
   "id": "9299534a-d7b3-4f50-b9c5-2205c83b07f6",
   "metadata": {},
   "outputs": [],
   "source": [
    "test_prompt = f\"\"\"Твоя рабочая директория - /home/ts777/TEST/. Работай только в ней.\n",
    "Создай проект test_project и организуй его структуру с соответствии с этой структурой: {project_structure}.\n",
    "Создай необходимые файлы, но пока оставь их пустыми.\n",
    "\"\"\""
   ]
  },
  {
   "cell_type": "code",
   "execution_count": 41,
   "id": "b0e6a55b-0b30-451c-a614-b3154864b550",
   "metadata": {},
   "outputs": [],
   "source": [
    "project_name = \"test_project_5\""
   ]
  },
  {
   "cell_type": "code",
   "execution_count": 42,
   "id": "c61accbb-d003-4b2e-b326-7d547cff1976",
   "metadata": {},
   "outputs": [],
   "source": [
    "test_prompt_coder = f\"\"\" Ты - очень опытный Senior Python Developer. Ты обладаешь отличными навыками написания кода,\n",
    "а также умеешь создавать директории, сохранять содержимое в файл, читать данные из файла, писать Python-код и запускать его.\n",
    "Твоя рабочая директория - /home/ts777/TEST/. Работай только в ней.\n",
    "Твоя задача - создать полноценное рабочее приложение для решения задачи {project_task}. \n",
    "Проверь, создан ли проект {project_name}. Если нет, то создай проект {project_name} и организуй его структуру с соответствии с этой структурой: {project_structure}.\n",
    "Прочитай описание каждого раздела {project_content}. \n",
    "Выдели изменения, которые нужно внести в каждый раздел для того, чтобы он соответствовал поставленной задаче.\n",
    "Составь план разработки проекта. \n",
    "Действуй шаг за шагом в соответствии с планом:\n",
    "1. Выбери раздел.\n",
    "2. Отредактируй код раздела в соответсвии с планом разработки.\n",
    "3. Протестируй код, проверь, что он работает.\n",
    "4. Запиши код в файл.\n",
    "5. Переходи к следующему разделу.\n",
    "6. Повторяй до тех пор, пока не заполнишь каждый раздел.\n",
    "ВАЖНО: обрабатывай каждый файл последовательно, не нужно писать все сразу!\n",
    "\"\"\""
   ]
  },
  {
   "cell_type": "code",
   "execution_count": 44,
   "id": "7d8b8c3f-7b6b-4424-a1c1-81acd0d124dc",
   "metadata": {},
   "outputs": [
    {
     "name": "stdout",
     "output_type": "stream",
     "text": [
      "! save_file to /home/ts777/TEST/test_project_5/main.py, content: ```python\n",
      "from fastapi import FastAPI\n",
      "from api.endpoints import router\n",
      "\n",
      "app = FastAPI()\n",
      "app.include_router(router)\n",
      "```python\n",
      "\n",
      "! save_file to /home/ts777/TEST/test_project_5/api/endpoints.py, content: ```python\n",
      "from fastapi import APIRouter\n",
      "from models.agent import AgentRequest, AgentResponse\n",
      "from services.agent_system import AgentSystem\n",
      "\n",
      "router = APIRouter()\n",
      "agent = AgentSystem()\n",
      "\n",
      "@router.post(\"/agent_run\", response_model=AgentResponse)\n",
      "def process_agent_request(request: AgentRequest):\n",
      "    result = agent.process(request.num1, request.num2)\n",
      "    return AgentResponse(result=result)\n",
      "```python\n",
      "\n",
      "! save_file to /home/ts777/TEST/test_project_5/models/agent.py, content: ```python\n",
      "from pydantic import BaseModel\n",
      "\n",
      "class AgentRequest(BaseModel):\n",
      "    num1: int\n",
      "    num2: int\n",
      "\n",
      "class AgentResponse(BaseModel):\n",
      "    result: int\n",
      "```python\n",
      "\n",
      "! save_file to /home/ts777/TEST/test_project_5/services/agent_system.py, content: ```python\n",
      "class AgentSystem:\n",
      "    def process(self, num1: int, num2: int) -> int:\n",
      "        return num1 + num2\n",
      "```python\n",
      "\n"
     ]
    }
   ],
   "source": [
    "config = {\"configurable\": {\"thread_id\": \"thread_id4\"}}\n",
    "message = {\n",
    "    \"messages\": [HumanMessage(content=test_prompt_coder)]\n",
    "}\n",
    "functions = [save_file, read_file, create_dir, run_python_code]\n",
    "llm_with_functions = llm.bind_tools(functions)\n",
    "agent_executor = create_react_agent(llm_with_functions, \n",
    "                                    functions,\n",
    "                                    checkpointer=MemorySaver()\n",
    "                                   )\n",
    "result = agent_executor.invoke(message, config=config)"
   ]
  },
  {
   "cell_type": "code",
   "execution_count": 63,
   "id": "7d635dce-31a8-4ba3-b337-8cf384a296a0",
   "metadata": {},
   "outputs": [],
   "source": [
    "state_modifier = \"\"\"Ты бот, который умеет создавать директории и сохранять содержимое в файл, читать данные из файла, писать Python-код и запускать его.\n",
    "Если ты написал Python-код, то сразу запусти его и проверь, что он запускается и корректно отрабатывает.\n",
    "Если ты создаешь файл и директории не существует, создай ее и потом сохрани файл заново.\n",
    "Твоя рабочая область, где ты будешь создавать директории и файлы: /home/ts777/TEST/. Работай только в ней! \n",
    "Спроси у пользователя все нужные данные перед действием.\"\"\""
   ]
  },
  {
   "cell_type": "code",
   "execution_count": 64,
   "id": "024069ce-5595-48c2-a78b-3364539fcdab",
   "metadata": {},
   "outputs": [],
   "source": [
    "functions = [save_file, read_file, create_dir, run_python_code]\n",
    "agent_executor = create_react_agent(llm_with_functions, \n",
    "                                    functions, \n",
    "                                    checkpointer=MemorySaver(),\n",
    "                                    state_modifier=state_modifier)"
   ]
  },
  {
   "cell_type": "code",
   "execution_count": 65,
   "id": "0357b92d-12a9-42b5-8ac1-3576889d6b6b",
   "metadata": {},
   "outputs": [
    {
     "name": "stdin",
     "output_type": "stream",
     "text": [
      "Клиент:  Что находится в файле add_numbers.py?\n"
     ]
    },
    {
     "name": "stdout",
     "output_type": "stream",
     "text": [
      "User: Что находится в файле add_numbers.py?\n",
      "! read_file from /home/ts777/TEST/add_numbers.py\n",
      "\u001b[93mBot: В файле add_numbers.py содержится следующий Python-код:\n",
      "\n",
      "```python\n",
      "def add_numbers(a, b):\n",
      "    return a + b\n",
      "```\u001b[0m\n"
     ]
    },
    {
     "name": "stdin",
     "output_type": "stream",
     "text": [
      "Клиент:  Протестируй его, он работает?\n"
     ]
    },
    {
     "name": "stdout",
     "output_type": "stream",
     "text": [
      "User: Протестируй его, он работает?\n",
      "! read_file from /home/ts777/TEST/add_numbers.py\n",
      "! run_python_code ```python\n",
      "def add_numbers(a, b):\n",
      "    return a + b\n",
      "\n",
      "# Тестируем функцию\n",
      "result = add_numbers(3, 5)\n",
      "print(result)\n",
      "```\n",
      "8\n",
      "\u001b[93mBot: Функция работает корректно. Тестовый запуск вернул результат: 8.\u001b[0m\n"
     ]
    },
    {
     "name": "stdin",
     "output_type": "stream",
     "text": [
      "Клиент:  Круто, можешь изменить код так, чтобы там было не сложение а умножение?\n"
     ]
    },
    {
     "name": "stdout",
     "output_type": "stream",
     "text": [
      "User: Круто, можешь изменить код так, чтобы там было не сложение а умножение?\n",
      "! read_file from /home/ts777/TEST/add_numbers.py\n",
      "! save_file to /home/ts777/TEST/add_numbers.py, content: ```python\n",
      "def multiply_numbers(a, b):\n",
      "    return a * b\n",
      "```\n",
      "\u001b[93mBot: Код изменён и сохранён в файл add_numbers.py. Теперь функция выполняет умножение.\u001b[0m\n"
     ]
    },
    {
     "name": "stdin",
     "output_type": "stream",
     "text": [
      "Клиент:  Верни, пожалуйста, содержимое файла add_numbers.py как было, а код с умножением сохрани в файл multyply_numbers.py\n"
     ]
    },
    {
     "name": "stdout",
     "output_type": "stream",
     "text": [
      "User: Верни, пожалуйста, содержимое файла add_numbers.py как было, а код с умножением сохрани в файл multyply_numbers.py\n",
      "! read_file from /home/ts777/TEST/add_numbers.py\n",
      "! save_file to /home/ts777/TEST/add_numbers.py, content: ```python\n",
      "def add_numbers(a, b):\n",
      "    return a + b\n",
      "```\n",
      "! save_file to /home/ts777/TEST/multiply_numbers.py, content: ```python\n",
      "def multiply_numbers(a, b):\n",
      "    return a * b\n",
      "```\n",
      "\u001b[93mBot: Исходное содержимое возвращено в файл add_numbers.py, а код с умножением сохранён в новый файл multiply_numbers.py.\u001b[0m\n"
     ]
    },
    {
     "name": "stdin",
     "output_type": "stream",
     "text": [
      "Клиент:  \n"
     ]
    }
   ],
   "source": [
    "def chat(agent_executor, thread_id: str):\n",
    "    config = {\"configurable\": {\"thread_id\": thread_id}}\n",
    "\n",
    "    while True:\n",
    "        user_input = input(\"Клиент: \")\n",
    "        if user_input == \"\":\n",
    "            break\n",
    "        print(f\"User: {user_input}\")\n",
    "        resp = agent_executor.invoke({\"messages\": [HumanMessage(content=user_input)]}, config=config)\n",
    "        bot_answer = resp['messages'][-1].content\n",
    "        print(\"\\033[93m\" + f\"Bot: {bot_answer}\" + \"\\033[0m\")\n",
    "        time.sleep(1) # Fix bug in Jupyter Notebook for VSCode\n",
    "\n",
    "chat(agent_executor, \"id_5\")"
   ]
  }
 ],
 "metadata": {
  "kernelspec": {
   "display_name": "Python 3 (ipykernel)",
   "language": "python",
   "name": "python3"
  },
  "language_info": {
   "codemirror_mode": {
    "name": "ipython",
    "version": 3
   },
   "file_extension": ".py",
   "mimetype": "text/x-python",
   "name": "python",
   "nbconvert_exporter": "python",
   "pygments_lexer": "ipython3",
   "version": "3.10.12"
  }
 },
 "nbformat": 4,
 "nbformat_minor": 5
}
