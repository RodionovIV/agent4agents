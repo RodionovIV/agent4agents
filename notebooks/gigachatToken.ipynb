{
 "cells": [
  {
   "cell_type": "code",
   "execution_count": 1,
   "id": "04446db8-9d20-4317-a162-051d78345025",
   "metadata": {},
   "outputs": [],
   "source": [
    "import requests\n",
    "import warnings\n",
    "import yaml"
   ]
  },
  {
   "cell_type": "code",
   "execution_count": 2,
   "id": "6e9247f3-e2c1-4780-9060-7a4cc5505dfa",
   "metadata": {},
   "outputs": [],
   "source": [
    "warnings.filterwarnings(\"ignore\")"
   ]
  },
  {
   "cell_type": "code",
   "execution_count": 1,
   "id": "deeb7427-e682-45fb-a5bd-16308094602e",
   "metadata": {},
   "outputs": [],
   "source": [
    "from credentials import Credentials"
   ]
  },
  {
   "cell_type": "code",
   "execution_count": 2,
   "id": "af3a6a58-8ff2-4ffe-b8d9-4fcd6e52edb1",
   "metadata": {},
   "outputs": [],
   "source": [
    "creds = Credentials()"
   ]
  },
  {
   "cell_type": "code",
   "execution_count": 4,
   "id": "291e7a22-0c5a-44ef-8d6b-c367278ecc5c",
   "metadata": {},
   "outputs": [
    {
     "name": "stdout",
     "output_type": "stream",
     "text": [
      "OK 200\n"
     ]
    },
    {
     "name": "stderr",
     "output_type": "stream",
     "text": [
      "/home/ts777/datascience/venv/lib/python3.10/site-packages/urllib3/connectionpool.py:1099: InsecureRequestWarning: Unverified HTTPS request is being made to host 'ngw.devices.sberbank.ru'. Adding certificate verification is strongly advised. See: https://urllib3.readthedocs.io/en/latest/advanced-usage.html#tls-warnings\n",
      "  warnings.warn(\n"
     ]
    },
    {
     "data": {
      "text/plain": [
       "'eyJjdHkiOiJqd3QiLCJlbmMiOiJBMjU2Q0JDLUhTNTEyIiwiYWxnIjoiUlNBLU9BRVAtMjU2In0.MtaXREJtYowksljYaJ-n7snah4IX4F7g8wZBeRjSecdVqQhNkjnQZ-8HbaVJkdOqssJucwEvTDY8YN6ZxQ3r-j5niPnicjEbFpDXlcg7x3lI2XuvbnnWjnCbe2iUkkp4xEnlOPAcZ00ivAVjv_35ay6FqEavpj8qnAd75uvdXS2ud6Ox6XNaZBlKB-vL5u0OBW-9R0j6eceyenIr-LL6kQoO9MP1tCVYr5kDveXPdYbQzjFEOreXV6zPoRVWO09dXOLoCoNg9DACodYjc6Xue3hr5hpPVUoosceHrL_BNidGHZUYHxnMYGsPqiHPK9bPq9gMeQxMgOYxjBrkG-QCiA.ToU6mPvFWjPf6AWeStwFnA.N5zGvZ9I4Ocr3Gw-_s686vrq8O9sIYyLm1w2TpJnPh2Oaucj1zhGF1lqmMpR5CtPgJdgx3kGbLFaw8KSo2oRXInmW8s8V2OXDVX5hKm9Y_jt5Zi6cg9PoP5OfxF7ZAUEUtkLn22rYYzdDu2Tm97d6DdAvlgzJk2vaXDfvuCm2zXrRzhpHz0RnF3-6L2ZaMk6tb6JsynwGBr3vZ9dAkzymYJzTEDgXXmQtQj6e1k_E9AUAMMESopd2LRg8Dad7Kr6W3TmspsMEvnWh1MB_WQHCsWvGe_aTXvpHbSUOOsplHc7q_rnydrrFPHBM3BRqC5l-viQ73WCd9OTgCpj85AyCcktSEO0RKGhh1H1BovGIf-qJ224IvqaxpROYGZEboj8UFgWBR4AaHHhYzKM6WgXEnkTJ-RrsmBcMfREX8F2IQHrv4MRT-AXVx3BdrbBg8V5D2UTqlKvFecSTWsKIyKmQvOPgxQcrZx4-yE44unzM-URlTLLjBixXwcFG69_qUEtSRWft8q3-ZROMHdniPMk04lwoBO4QKQ_EXmXOuxDaoMt58T2i8fw9smVzeXMxpk4eRUjENDThXROE7jsKcta6AOZfQ9unpxyVki8ZCPg4aLIse1MFH_MJiasZr0U0Uc1Ja1b8YxZLrZt0cpE1oOCVg9DOeaORztjjGZN2S1SD2Q5VKaz0BPGqOTHLmxW7S64AdcOziVT1Ka-rU1xJBvy9FmFI5gkEYNiLUssF1xwfqg.xo6RBaqW8XjxSbgj6OeV1Xa1whgQ4JBIeNdAN6QGKec'"
      ]
     },
     "execution_count": 4,
     "metadata": {},
     "output_type": "execute_result"
    }
   ],
   "source": [
    "creds.gigachat_api_key"
   ]
  },
  {
   "cell_type": "code",
   "execution_count": null,
   "id": "74197770-b49c-4d7f-8ae7-58edc4b0c52f",
   "metadata": {},
   "outputs": [],
   "source": []
  },
  {
   "cell_type": "code",
   "execution_count": 22,
   "id": "4f7d7b46-ce2d-426e-887d-089e43e729e1",
   "metadata": {},
   "outputs": [],
   "source": [
    "with open(\"creds.yaml\", \"rb\") as f:\n",
    "    config = yaml.load(f, yaml.SafeLoader)"
   ]
  },
  {
   "cell_type": "code",
   "execution_count": 23,
   "id": "cca6d20e-6f0e-4ef4-afc7-e705d722853a",
   "metadata": {},
   "outputs": [
    {
     "data": {
      "text/plain": [
       "{'CLIENT_ID': '!'}"
      ]
     },
     "execution_count": 23,
     "metadata": {},
     "output_type": "execute_result"
    }
   ],
   "source": [
    "config[\"GIGACHAT\"]"
   ]
  },
  {
   "cell_type": "code",
   "execution_count": 1,
   "id": "dadca88c-90eb-48d2-b5e5-d2da933cd436",
   "metadata": {},
   "outputs": [],
   "source": [
    "CLIENT_ID = \"b75afa52-360a-46e8-98b7-f58c000220bf\"\n",
    "SCOPE = \"GIGACHAT_API_PERS\"\n",
    "AUTHORIZATION_KEY = \"Yjc1YWZhNTItMzYwYS00NmU4LTk4YjctZjU4YzAwMDIyMGJmOjJhNWE3YmVhLTAyYzctNGJhNy05NWE3LWEzY2YwNGQzYzZiNw==\"\n",
    "CLIENT_SECRET = \"2a5a7bea-02c7-4ba7-95a7-a3cf04d3c6b7\""
   ]
  },
  {
   "cell_type": "code",
   "execution_count": 15,
   "id": "a59c2629-4440-4fcd-9acd-fd04be166189",
   "metadata": {},
   "outputs": [],
   "source": [
    "def get_gigachat_token():\n",
    "    authorization_key = \"Yjc1YWZhNTItMzYwYS00NmU4LTk4YjctZjU4YzAwMDIyMGJmOjJhNWE3YmVhLTAyYzctNGJhNy05NWE3LWEzY2YwNGQzYzZiNw==\"\n",
    "    usr = \"https://ngw.devices.sberbank.ru:9443/api/v2/oauth\"\n",
    "    payload = {\n",
    "        'scope': 'GIGACHAT_API_PERS'\n",
    "    }\n",
    "    headers = {\n",
    "        'Content-Type': 'application/x-www-form-urlencoded',\n",
    "        'Accept': 'application/json',\n",
    "        'RqUID': 'bb7b60b7-1098-4808-90d9-bc58416ac973',\n",
    "        'Authorization': f'Basic {authorization_key}'\n",
    "    }\n",
    "    response = requests.post(url, headers=headers, data=payload, verify=False)\n",
    "    if response.status_code == 200:\n",
    "        print(\"OK 200\")\n",
    "        response_json = response.json()\n",
    "        return response_json[\"access_token\"]\n",
    "    else:\n",
    "        raise Exception(f\"STATUS CODE {response.status_code}\")"
   ]
  },
  {
   "cell_type": "code",
   "execution_count": 3,
   "id": "9960c732-534d-461e-a2f7-a0b8f637b087",
   "metadata": {},
   "outputs": [
    {
     "name": "stdout",
     "output_type": "stream",
     "text": [
      "{\"access_token\":\"eyJjdHkiOiJqd3QiLCJlbmMiOiJBMjU2Q0JDLUhTNTEyIiwiYWxnIjoiUlNBLU9BRVAtMjU2In0.swvE6viVFzARL3jynyrfCcLMxc-HP2OzJ9HwXF28kpyXjgBz5nTn249xZWKLj8ozU8pmhfps9xciVS2Mpwl7ni5e68Z39ZYp8AFyr5RpbrYVWtmSU-PxxY182-QLX2MWAz943E1W-locrhzeJf_4OvRcO44WbEL-4DgwRM3YrAqmIkPInsL7hVWHr2prQbJu1t_SreVaWNuIZajxm_IhIwt3WDZIsKi_gvg_SJpCUetpvQ6acSzPvfrba7WHPt9wFHqX5XY4B1Le6GU5I3C2U5DEraZDK9YXnL4WtstUy9s__sK0ZndFGUrEOHQf_0BwuyBPxwbaeLknWVB7hnokTg.MAaRZB6HRJjmtJqcqMsHhg.FRjf_Bz7z0qmewYSzZibP1SdH-FDwyLGrfEkAfu21OkTY9AVUl7JaNmzNuYZTZn-opHO_fLDSELODxRNDpcc3hTxYO1-ozXa_0V4sDAqPasetG2F9PIINhllhsIZreRWhCfyCvaMStRYOHY4qRwieBo4mbaCPz_3Py2y0lNcd3QEVLbHHTfOfBrODJyNQlL7QbwVlGq8bOuwS_FJuBOAyeRU09iahFCuyD1Mbjf1yCd-tlkqdUTPtoGpmljwuY9JJ0fRPW1yxUDeu8GdeWQQ7FHX7GWvsnjWqArUTtbM3LaCZcebvjHM1CHUVryNs18peEni-gQBj8mOJl1nCCc911sV4DIr57zo9u0QhzCHYCvUnreia_048CTTEtwkX-_slnZ5jncbGJWPNjPSwrf1NEv5RYzEHAk1eSNcz1mSjgm4LrH10pbgkMEYSSz4x_dn-bM_fCvCNrGTy03EehKIt5lacqDHLBX6_ceF6hzV8DEf40pv9dSFBRctYr_4kWdRcZHv3W2etcWCnPmPWjJ3Yc_X3Ip9tT-zFTSbGGSR4bvuf0zl9UzndsFVjXALYmCE_BdcvwdmkvGa_kHBpdps7gFuUw8GHoH9L0BhZHpIAmSe0xGioQyiZEMvmMzx5mxrdebSBk06hBPISUvE9RKBkRVx1KTvKmQCFxBvBTi2103xVEEA3q50MqhdfW-gYR5fdTklNcBWpczNAT8Nj0YNcGwgEi5HRkZ38ULy-CVkt9c.KO7tiGDrB4L-wMkvUiFemqyrkzn0gW8Uf0yk-2xvKYs\",\"expires_at\":1745779056154}\n"
     ]
    },
    {
     "name": "stderr",
     "output_type": "stream",
     "text": [
      "/home/ts777/datascience/venv/lib/python3.10/site-packages/urllib3/connectionpool.py:1099: InsecureRequestWarning: Unverified HTTPS request is being made to host 'ngw.devices.sberbank.ru'. Adding certificate verification is strongly advised. See: https://urllib3.readthedocs.io/en/latest/advanced-usage.html#tls-warnings\n",
      "  warnings.warn(\n"
     ]
    }
   ],
   "source": [
    "url = \"https://ngw.devices.sberbank.ru:9443/api/v2/oauth\"\n",
    "\n",
    "payload={\n",
    "  'scope': 'GIGACHAT_API_PERS'\n",
    "}\n",
    "headers = {\n",
    "  'Content-Type': 'application/x-www-form-urlencoded',\n",
    "  'Accept': 'application/json',\n",
    "  'RqUID': 'bb7b60b7-1098-4808-90d9-bc58416ac973',\n",
    "  'Authorization': f'Basic {AUTHORIZATION_KEY}'\n",
    "}\n",
    "\n",
    "response = requests.request(\"POST\", url, headers=headers, data=payload, verify=False)\n",
    "\n",
    "print(response.text)"
   ]
  },
  {
   "cell_type": "code",
   "execution_count": 12,
   "id": "84fefd36-1143-4bb9-8ff8-528f616fb7fc",
   "metadata": {},
   "outputs": [],
   "source": [
    "access_token = response.json()[\"access_token\"]"
   ]
  },
  {
   "cell_type": "code",
   "execution_count": 14,
   "id": "84d5424c-ace6-4190-aaa7-1f141f80a2f2",
   "metadata": {},
   "outputs": [
    {
     "name": "stdout",
     "output_type": "stream",
     "text": [
      "{\"object\":\"list\",\"data\":[{\"id\":\"GigaChat\",\"object\":\"model\",\"owned_by\":\"salutedevices\",\"type\":\"chat\"},{\"id\":\"GigaChat-2\",\"object\":\"model\",\"owned_by\":\"salutedevices\",\"type\":\"chat\"},{\"id\":\"GigaChat-2-Max\",\"object\":\"model\",\"owned_by\":\"salutedevices\",\"type\":\"chat\"},{\"id\":\"GigaChat-2-Max-preview\",\"object\":\"model\",\"owned_by\":\"salutedevices\",\"type\":\"chat\"},{\"id\":\"GigaChat-2-Pro\",\"object\":\"model\",\"owned_by\":\"salutedevices\",\"type\":\"chat\"},{\"id\":\"GigaChat-2-Pro-preview\",\"object\":\"model\",\"owned_by\":\"salutedevices\",\"type\":\"chat\"},{\"id\":\"GigaChat-2-preview\",\"object\":\"model\",\"owned_by\":\"salutedevices\",\"type\":\"chat\"},{\"id\":\"GigaChat-Max\",\"object\":\"model\",\"owned_by\":\"salutedevices\",\"type\":\"chat\"},{\"id\":\"GigaChat-Max-preview\",\"object\":\"model\",\"owned_by\":\"salutedevices\",\"type\":\"chat\"},{\"id\":\"GigaChat-Plus\",\"object\":\"model\",\"owned_by\":\"salutedevices\",\"type\":\"chat\"},{\"id\":\"GigaChat-Plus-preview\",\"object\":\"model\",\"owned_by\":\"salutedevices\",\"type\":\"chat\"},{\"id\":\"GigaChat-Pro\",\"object\":\"model\",\"owned_by\":\"salutedevices\",\"type\":\"chat\"},{\"id\":\"GigaChat-Pro-preview\",\"object\":\"model\",\"owned_by\":\"salutedevices\",\"type\":\"chat\"},{\"id\":\"GigaChat-preview\",\"object\":\"model\",\"owned_by\":\"salutedevices\",\"type\":\"chat\"}]}\n"
     ]
    }
   ],
   "source": [
    "import requests\n",
    "\n",
    "url = \"https://gigachat.devices.sberbank.ru/api/v1/models\"\n",
    "\n",
    "payload={}\n",
    "headers = {\n",
    "  'Accept': 'application/json',\n",
    "  'Authorization': f'Bearer {access_token}'\n",
    "}\n",
    "\n",
    "response = requests.request(\"GET\", url, headers=headers, data=payload, verify=False)\n",
    "\n",
    "print(response.text)"
   ]
  }
 ],
 "metadata": {
  "kernelspec": {
   "display_name": "Python 3 (ipykernel)",
   "language": "python",
   "name": "python3"
  },
  "language_info": {
   "codemirror_mode": {
    "name": "ipython",
    "version": 3
   },
   "file_extension": ".py",
   "mimetype": "text/x-python",
   "name": "python",
   "nbconvert_exporter": "python",
   "pygments_lexer": "ipython3",
   "version": "3.10.12"
  }
 },
 "nbformat": 4,
 "nbformat_minor": 5
}
