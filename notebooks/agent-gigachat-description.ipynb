{
 "cells": [
  {
   "cell_type": "code",
   "execution_count": 1,
   "id": "e3c98c6a-f711-4e83-9814-9e0f98c69768",
   "metadata": {},
   "outputs": [],
   "source": [
    "from langchain.agents import initialize_agent, AgentType, Tool\n",
    "from langchain.memory import ConversationBufferMemory\n",
    "from langgraph.graph import StateGraph\n",
    "from langchain.chat_models import ChatOpenAI\n",
    "from langchain_gigachat.chat_models import GigaChat\n",
    "from langchain.schema import HumanMessage, SystemMessage, Document, AIMessage\n",
    "from langchain.vectorstores import FAISS\n",
    "from langchain.embeddings import SentenceTransformerEmbeddings\n",
    "from langchain.chains import RetrievalQA\n",
    "from langchain_community.tools import DuckDuckGoSearchRun\n",
    "from langgraph.types import Command\n",
    "from langgraph.prebuilt import create_react_agent\n",
    "from langgraph.checkpoint.memory import MemorySaver\n",
    "from langgraph.graph import StateGraph, END, MessagesState, START\n",
    "from typing import TypedDict, Optional, Literal, List, Dict\n",
    "from typing_extensions import TypedDict\n",
    "\n",
    "import datetime\n",
    "import warnings\n",
    "import os\n",
    "import re"
   ]
  },
  {
   "cell_type": "code",
   "execution_count": 2,
   "id": "330b0854-56a8-41ab-a69b-041c39c8d61c",
   "metadata": {},
   "outputs": [],
   "source": [
    "warnings.filterwarnings(\"ignore\")"
   ]
  },
  {
   "cell_type": "code",
   "execution_count": 3,
   "id": "e5b53360-bf3f-45b9-95a2-f5e5eb90984e",
   "metadata": {},
   "outputs": [],
   "source": [
    "os.environ[\"GIGACHAT_CREDENTIALS\"] = \"Yjc1YWZhNTItMzYwYS00NmU4LTk4YjctZjU4YzAwMDIyMGJmOjJhNWE3YmVhLTAyYzctNGJhNy05NWE3LWEzY2YwNGQzYzZiNw==\""
   ]
  },
  {
   "cell_type": "code",
   "execution_count": null,
   "id": "db9fbcd2-7f47-4438-b18d-138839d35f7c",
   "metadata": {},
   "outputs": [],
   "source": [
    "def save_result(result):\n",
    "    format_ = \"%Y_%m_%dT%H_%M_%S\"\n",
    "    datetime_mark = datetime.datetime.now().strftime(format_)\n",
    "    \n",
    "    with open(f\"tmp/desc_{datetime_mark}.md\", \"w\") as f:\n",
    "        f.write(result[\"description\"])\n",
    "\n",
    "    with open(f\"tmp/graph_{datetime_mark}.md\", \"w\") as f:\n",
    "        f.write(result[\"graph\"])"
   ]
  },
  {
   "cell_type": "code",
   "execution_count": 4,
   "id": "9957ef59-9fd0-41c8-be6e-ac713b4b0f3b",
   "metadata": {},
   "outputs": [],
   "source": [
    "llm = GigaChat(\n",
    "    model=\"GigaChat-2-Max\",\n",
    "    verify_ssl_certs=False,\n",
    "    profanity_check=False,\n",
    "    streaming=False,\n",
    "    max_tokens=8192,\n",
    "    temperature=0.3,\n",
    "    repetition_penalty=1.01\n",
    ")"
   ]
  },
  {
   "cell_type": "code",
   "execution_count": 27,
   "id": "3f264920-0e53-4f94-b3c7-b3fe639723a1",
   "metadata": {},
   "outputs": [],
   "source": [
    "class AgentState(TypedDict):\n",
    "    task: str\n",
    "    messages: List\n",
    "    description: str\n",
    "    graph: str\n",
    "    schema: str\n",
    "    \n",
    "class ValidatorResponse(TypedDict):\n",
    "    \"\"\"В поле instructions нужно указать рекомендации. В поле status указать статус задачи [FAIL, SUCCESS]\"\"\"\n",
    "    instructions: str\n",
    "    status: Literal[\"FAIL\", \"SUCCESS\"]"
   ]
  },
  {
   "cell_type": "code",
   "execution_count": 28,
   "id": "a887d755-0375-4ac7-b5ca-5b38821e515c",
   "metadata": {},
   "outputs": [],
   "source": [
    "instruments = \"\"\"RAG - поиск аналогичных решений по своей базе данных для более корректной генерации;\n",
    "Web Search - поиск в интернете, если требуется найти актуальную информацию;\n",
    "API - взаимодействие со сторонними сервисами через API.\"\"\""
   ]
  },
  {
   "cell_type": "code",
   "execution_count": 29,
   "id": "6853d472-5369-4513-afbe-02719fa80623",
   "metadata": {},
   "outputs": [],
   "source": [
    "describer_prompt = \"\"\"Ты - превосходный аналитик. Тебе дается задача {task}. Тебе нужно придумать и описать, как реализовать эту задачу с помощью llm агентов.\n",
    "Подумай над следующими вопросами: \n",
    "- Как придуманная система будет взаимодействовать со сторонними системами (из какой системы будет приходить запрос, куда будет отправляться результат);\n",
    "- Сколько агентов необходимо для реализации системы: один или несколько; \n",
    "- Нужен ли агент оркестратор или можно обойтись без него (Агент оркестратор может быть необходим, если требуется координировать работу нескольких агентов, которые работают вместе);\n",
    "- Нужен ли агент валидатор или можно обойтись без него (Агент валидатор может быть необходим, если нужно провалидировать работу другого агента и, если работа не соответствует критериям, вернуть задачу на доработку); \n",
    "- Какую задачу решает каждый агент, какие инструменты из перечня инструментов {instruments} ему необходимы для решения его задачи;\n",
    "- С какими системами будет взаимодействовать каждый агент;\n",
    "\n",
    "\n",
    "Опиши придуманный тобой процесс.\n",
    "\"\"\""
   ]
  },
  {
   "cell_type": "code",
   "execution_count": 81,
   "id": "f0a072df-278a-4b5d-8b97-78a622ef9fb8",
   "metadata": {},
   "outputs": [],
   "source": [
    "description_validator_prompt = \"\"\"Ты - Валидатор. Ты прекрасно умеешь критиковать написанные сценарии для достижения наилучшего результата.\n",
    "Ты работаешь вместе с Аналитиком. Проанализуруй сценарий, который предложил аналитик к задаче {task}. \n",
    "Сценарий не должен быть очень подробным: не должны быть описаны контракты между сервисами, структура БД, метрики качества. Должна быть отражена только основная суть. \n",
    "Проверь, что сценарий, который предложил аналитик подходит для решения задачи. \n",
    "Проверь, что описаны как основные сценарии, так и альтернативные.\n",
    "Если сценарий нужно улучшать, напиши свои замечания и верни сценарий на дорабоку, ответив FAIL В конце инструкции попроси аналитика заново полностью описать сценарий. \n",
    "Если Аналитик хорошо выполнил свою работу и замечаний нет, ответь SUCCESS.\n",
    "\n",
    "Ответ дай в следующем формате json:\n",
    "```json\n",
    "{format}\n",
    "```\n",
    "\"\"\""
   ]
  },
  {
   "cell_type": "code",
   "execution_count": 82,
   "id": "8a1a7c8a-05ec-4d15-a3ae-1463584fac29",
   "metadata": {},
   "outputs": [],
   "source": [
    "format_ =\"\"\"{\n",
    "    \"instructions\": \"Здесь укажи свои рекомендации или оставь строку пустой, если рекомендаций нет\",\n",
    "    \"status\": \"FAIL\" если требуется доработка иначе \"SUCCESS\"\n",
    "}\"\"\""
   ]
  },
  {
   "cell_type": "code",
   "execution_count": 83,
   "id": "0df798e3-0b45-4bb2-9df4-50e66910a311",
   "metadata": {},
   "outputs": [],
   "source": [
    "graph_maker_prompt = \"\"\"Ты - превосходный аналитик. Тебе дается задача {task} и описание ее решения {description}.\n",
    "Выдели основные объекты системы и опиши граф связей между объектами. Если в процессе упомянуты инструменты, изобрази их. Граф должен включать как основной так и альтернативные сценарии.\n",
    "Граф должент быть простой и понятный, изображать только основные этапы взаимодействия без чрезмерных подробностей.\n",
    "Для наглядности изобрази схему в формате markdown\"\"\""
   ]
  },
  {
   "cell_type": "code",
   "execution_count": 84,
   "id": "259ec6d0-3a4e-4196-aa87-25ae3439b671",
   "metadata": {},
   "outputs": [],
   "source": [
    "task_3 = \"\"\"Требуется создать систему автозаполнения заявок инженеров сопровождения. Как должна работать система:\n",
    "Есть база данных \"ПКАП\", с которой можно взаимодействовать через сторонний сервис OpenShift. Сервис Openshift извлекает данные из БД и отдает их системе.\n",
    "Данные представляют собой заявку по инциденту, которые необходимо заполнить. Система должна проанализировать заявку, выделить причины инциденда и способ его закрытия.\n",
    "Система должна сравнить проанализированные данные с аналогичными примерами, которые у нее есть. В случае, если найден похожий пример, заполнить заявку основываясь на примере и результаете своего анализа.\"\"\""
   ]
  },
  {
   "cell_type": "code",
   "execution_count": 90,
   "id": "ec7ecd96-1d7d-46ef-b8e9-2b934d51f584",
   "metadata": {},
   "outputs": [],
   "source": [
    "process_describe_agent = create_react_agent(llm, tools=[], checkpointer=MemorySaver())\n",
    "graph_maker_agent = create_react_agent(llm, tools=[])"
   ]
  },
  {
   "cell_type": "code",
   "execution_count": 99,
   "id": "b568ecb6-6f7a-4d28-8c0d-b35ffcc544a1",
   "metadata": {},
   "outputs": [],
   "source": [
    "def describe_agent_node(state:AgentState)->Command[Literal[\"describtion_validator\"]]:    \n",
    "    print(\"Status: describer\")\n",
    "    if \"messages\" in state and state[\"messages\"]:\n",
    "        old_messages = state[\"messages\"]\n",
    "        request = {\n",
    "            \"messages\": HumanMessage(content=state[\"messages\"][-1].content)\n",
    "        }\n",
    "    else:\n",
    "        old_messages = []\n",
    "        request = {\n",
    "            \"messages\": describer_prompt.format(task=state[\"task\"], instruments=instruments)\n",
    "        }\n",
    "    response = process_describe_agent.invoke(request, config=config)\n",
    "    if isinstance(response, dict):\n",
    "        result = response[\"messages\"][-1].content\n",
    "    else:\n",
    "        result = response\n",
    "    return Command(\n",
    "        update={\n",
    "            \"description\": result,\n",
    "            \"messages\": old_messages + [HumanMessage(content=result, name=\"Аналитик\")]\n",
    "        },\n",
    "        goto=\"describtion_validator\"\n",
    "    )\n",
    "\n",
    "def describtion_validator_node(state:AgentState)->Command[Literal[\"describer\", \"graph_maker_agent\"]]:\n",
    "    print(f\"Status: describtion_validator_node\")\n",
    "    return_node = \"describer\"\n",
    "    if not \"messages\" in state or not state[\"messages\"]:\n",
    "        return Command(goto=return_node)\n",
    "    \n",
    "    prompt = description_validator_prompt.format(task=state[\"task\"], format=format_)\n",
    "    system = SystemMessage(content=prompt)\n",
    "    request = [system] + [state[\"messages\"][-1]]\n",
    "\n",
    "    validator_msgs_fount = len(list(filter(lambda x: x.name==\"Валидатор\", state[\"messages\"])))\n",
    "    \n",
    "    response = llm.invoke(request)\n",
    "    response = response.content\n",
    "    print(f\"RESPONSE: {response}\")\n",
    "    match_json = re.search(r'```json\\s*(.*?)\\s*```', response, re.DOTALL)\n",
    "    if match_json:\n",
    "        response = eval(match_json.group(1))\n",
    "    else:\n",
    "        response = {\"status\":\"SUCCESS\", \"instructions\":\"\"}\n",
    "    result = response[\"instructions\"]\n",
    "    print(f\"STATUS: {response['status']}\\n\\nVALIDATOR: {result}\")\n",
    "    \n",
    "    if response[\"status\"]==\"SUCCESS\" or validator_msgs_fount+1 > 3:\n",
    "        goto = \"graph_maker_agent\"\n",
    "        return Command(goto=goto)\n",
    "    else:\n",
    "        goto = return_node\n",
    "        return Command(\n",
    "            update={\n",
    "            \"messages\": state[\"messages\"] + [HumanMessage(content=result, name=\"Валидатор\")],\n",
    "            },\n",
    "            goto=goto\n",
    "        )\n",
    "    \n",
    "def graph_maker_agent_node(state:AgentState)->Command[Literal[END]]:\n",
    "    request = graph_maker_prompt.format(task=state[\"task\"], description=state[\"description\"])\n",
    "    request = {\n",
    "        \"messages\": HumanMessage(content=request)\n",
    "    }\n",
    "    response = graph_maker_agent.invoke(request)\n",
    "    if isinstance(response, dict):\n",
    "        result = response[\"messages\"][-1].content\n",
    "    else:\n",
    "        result = response\n",
    "    return Command(\n",
    "        update={\n",
    "            \"graph\": result\n",
    "        },\n",
    "        goto=END\n",
    "    )"
   ]
  },
  {
   "cell_type": "code",
   "execution_count": 100,
   "id": "74737baa-b7db-4a38-b2cb-8302a863b79b",
   "metadata": {},
   "outputs": [],
   "source": [
    "config = {\"configurable\": {\"thread_id\": \"thread_id123\"}}"
   ]
  },
  {
   "cell_type": "code",
   "execution_count": 101,
   "id": "a9b845f4-f348-45c8-8d95-5a24733023b3",
   "metadata": {},
   "outputs": [],
   "source": [
    "state_schema = AgentState\n",
    "builder = StateGraph(state_schema=state_schema)\n",
    "builder.set_entry_point(\"describer\")\n",
    "builder.add_node(\"describer\", describe_agent_node)\n",
    "builder.add_node(\"describtion_validator\", describtion_validator_node)\n",
    "builder.add_node(\"graph_maker_agent\", graph_maker_agent_node)\n",
    "graph = builder.compile()"
   ]
  },
  {
   "cell_type": "code",
   "execution_count": 102,
   "id": "0e492557-8d3b-4e16-ad12-38802a4df827",
   "metadata": {},
   "outputs": [],
   "source": [
    "initial_state_2 = {\n",
    "    \"task\": task_3,\n",
    "}"
   ]
  },
  {
   "cell_type": "code",
   "execution_count": 127,
   "id": "76eb3438-b1e7-484f-8b0d-1c3df2a1a39c",
   "metadata": {},
   "outputs": [],
   "source": [
    "save_result(result_2)"
   ]
  },
  {
   "cell_type": "code",
   "execution_count": 103,
   "id": "722dbd9a-3b77-41a2-a9bb-4a11c32319e8",
   "metadata": {},
   "outputs": [
    {
     "name": "stdout",
     "output_type": "stream",
     "text": [
      "Status: describer\n",
      "Status: describtion_validator_node\n",
      "RESPONSE: ```json\n",
      "{\n",
      "    \"instructions\": \"Сценарий требует доработки. Необходимо уточнить, как именно происходит взаимодействие между агентами и какие действия предпринимаются в случае, если не найдено аналогичного примера. Также стоит добавить описание альтернативных сценариев, например, что происходит, если данные из OpenShift некорректны или база данных недоступна.\",\n",
      "    \"status\": \"FAIL\"\n",
      "}\n",
      "```\n",
      "STATUS: FAIL\n",
      "\n",
      "VALIDATOR: Сценарий требует доработки. Необходимо уточнить, как именно происходит взаимодействие между агентами и какие действия предпринимаются в случае, если не найдено аналогичного примера. Также стоит добавить описание альтернативных сценариев, например, что происходит, если данные из OpenShift некорректны или база данных недоступна.\n",
      "Status: describer\n",
      "Status: describtion_validator_node\n",
      "RESPONSE: ```json\n",
      "{\n",
      "    \"instructions\": \"\",\n",
      "    \"status\": \"SUCCESS\"\n",
      "}\n",
      "```\n",
      "STATUS: SUCCESS\n",
      "\n",
      "VALIDATOR: \n"
     ]
    }
   ],
   "source": [
    "result_2 = graph.invoke(initial_state_2)"
   ]
  },
  {
   "cell_type": "code",
   "execution_count": 31,
   "id": "19fbbc48-78e2-4970-814a-cccd24033479",
   "metadata": {},
   "outputs": [],
   "source": [
    "# from IPython.display import Image, display\n",
    "\n",
    "# try:\n",
    "#     display(Image(graph.get_graph().draw_mermaid_png()))\n",
    "# except Exception:\n",
    "#     # You can put your exception handling code here\n",
    "#     pass"
   ]
  },
  {
   "cell_type": "code",
   "execution_count": null,
   "id": "35c96139-efdf-4be5-92c3-3f7e9b13d120",
   "metadata": {},
   "outputs": [],
   "source": []
  },
  {
   "cell_type": "code",
   "execution_count": null,
   "id": "3f8c5325-e0d3-4a78-be8b-51e84421856f",
   "metadata": {},
   "outputs": [],
   "source": []
  },
  {
   "cell_type": "code",
   "execution_count": null,
   "id": "01684e84-1633-4d2b-8b1f-0e534f634047",
   "metadata": {},
   "outputs": [],
   "source": []
  },
  {
   "cell_type": "code",
   "execution_count": null,
   "id": "0b17008b-a138-4473-ad03-98cb443142a6",
   "metadata": {},
   "outputs": [],
   "source": []
  },
  {
   "cell_type": "code",
   "execution_count": null,
   "id": "456230d9-a31e-4101-9395-2a5c7237c401",
   "metadata": {},
   "outputs": [],
   "source": []
  },
  {
   "cell_type": "code",
   "execution_count": 17,
   "id": "213500cb-cdb4-44be-8293-00184f7055b7",
   "metadata": {},
   "outputs": [],
   "source": [
    "initial_state = {\n",
    "    \"task\": task_3,\n",
    "}"
   ]
  },
  {
   "cell_type": "code",
   "execution_count": 5,
   "id": "e8049db6-7e68-4799-b4a5-28aa2769e866",
   "metadata": {},
   "outputs": [],
   "source": [
    "from langgraph.prebuilt import create_react_agent\n",
    "from langchain_core.prompts import ChatPromptTemplate"
   ]
  },
  {
   "cell_type": "code",
   "execution_count": 6,
   "id": "23c01322-075a-4812-93a4-ddc3d9c02e53",
   "metadata": {},
   "outputs": [],
   "source": [
    "prompt = ChatPromptTemplate.from_messages(\n",
    "    [\n",
    "        (\"system\", \"Разбей задачу на подзадачи и пошагово решай ее. \\\n",
    "                    Если для решения поставленного вопроса нужна информация, задай уточняющий \\\n",
    "                    вопрос в формате [Для решения вопроса мне не хватает информации: информация]\"),\n",
    "        (\"placeholder\", \"{messages}\"),\n",
    "    ]\n",
    ")"
   ]
  },
  {
   "cell_type": "code",
   "execution_count": 8,
   "id": "fa668147-f9d7-498e-a79f-517db154907c",
   "metadata": {},
   "outputs": [],
   "source": [
    "describer_agent_gigachat = create_react_agent(model=llm, tools=[], prompt=prompt)"
   ]
  },
  {
   "cell_type": "code",
   "execution_count": 74,
   "id": "88e1dbbd-fcae-40f4-8c3c-365a6341ac8c",
   "metadata": {},
   "outputs": [],
   "source": [
    "graph_maker_agent_gigachat = create_react_agent(model=llm, tools=[], prompt=prompt)"
   ]
  },
  {
   "cell_type": "code",
   "execution_count": 18,
   "id": "e5884f72-98ca-4976-9639-b6adc96908df",
   "metadata": {},
   "outputs": [],
   "source": [
    "messages = {\n",
    "    \"messages\": [\n",
    "        HumanMessage(content=describer_prompt.format(task=initial_state[\"task\"], instruments=instruments))\n",
    "    ]\n",
    "}"
   ]
  },
  {
   "cell_type": "code",
   "execution_count": 19,
   "id": "4467c2dc-abda-471b-bbae-5fa95c46db09",
   "metadata": {},
   "outputs": [],
   "source": [
    "describer_result = describer_agent_gigachat.invoke(messages)"
   ]
  },
  {
   "cell_type": "code",
   "execution_count": 24,
   "id": "e32123bb-275e-4d31-9cd7-fa0a3e552c47",
   "metadata": {},
   "outputs": [
    {
     "name": "stdout",
     "output_type": "stream",
     "text": [
      "### Анализ задачи и постановка подзадач\n",
      "\n",
      "Для реализации системы автозаполнения заявок инженеров сопровождения необходимо решить следующие подзадачи:\n",
      "\n",
      "1. **Получение данных из сторонней системы**:\n",
      "   - Извлечение заявки по инциденту из базы данных \"ПКАП\" через сервис OpenShift.\n",
      "\n",
      "2. **Анализ заявки**:\n",
      "   - Анализ заявки для выделения причин инцидента и способа его закрытия.\n",
      "\n",
      "3. **Поиск аналогичных примеров**:\n",
      "   - Поиск аналогичных примеров в базе данных для сравнения с текущей заявкой.\n",
      "\n",
      "4. **Заполнение заявки**:\n",
      "   - Заполнение заявки на основе анализа и найденных аналогичных примеров.\n",
      "\n",
      "5. **Валидация результата**:\n",
      "   - Проверка корректности заполнения заявки.\n",
      "\n",
      "6. **Отправка результата**:\n",
      "   - Отправка заполненной заявки обратно в систему.\n",
      "\n",
      "### Определение агентов и их задач\n",
      "\n",
      "Для реализации системы потребуется несколько агентов:\n",
      "\n",
      "1. **Агент извлечения данных (Data Extraction Agent)**:\n",
      "   - Задача: Извлечение заявки из базы данных \"ПКАП\" через сервис OpenShift.\n",
      "   - Инструменты: API.\n",
      "   - Взаимодействие: OpenShift.\n",
      "\n",
      "2. **Агент анализа (Analysis Agent)**:\n",
      "   - Задача: Анализ заявки для выделения причин инцидента и способа его закрытия.\n",
      "   - Инструменты: RAG.\n",
      "   - Взаимодействие: База данных \"ПКАП\".\n",
      "\n",
      "3. **Агент поиска аналогов (Similarity Search Agent)**:\n",
      "   - Задача: Поиск аналогичных примеров в базе данных.\n",
      "   - Инструменты: RAG.\n",
      "   - Взаимодействие: База данных \"ПКАП\".\n",
      "\n",
      "4. **Агент заполнения (Filling Agent)**:\n",
      "   - Задача: Заполнение заявки на основе анализа и найденных аналогичных примеров.\n",
      "   - Инструменты: RAG.\n",
      "   - Взаимодействие: База данных \"ПКАП\".\n",
      "\n",
      "5. **Агент валидации (Validation Agent)**:\n",
      "   - Задача: Проверка корректности заполнения заявки.\n",
      "   - Инструменты: RAG.\n",
      "   - Взаимодействие: База данных \"ПКАП\".\n",
      "\n",
      "6. **Агент оркестратор (Orchestration Agent)**:\n",
      "   - Задача: Координация работы всех агентов.\n",
      "   - Инструменты: API.\n",
      "   - Взаимодействие: Все агенты.\n",
      "\n",
      "### Процесс взаимодействия агентов\n",
      "\n",
      "1. **Агент извлечения данных**:\n",
      "   - Получает запрос на извлечение заявки из OpenShift.\n",
      "   - Извлекает заявку из базы данных \"ПКАП\".\n",
      "   - Передает заявку агенту анализа.\n",
      "\n",
      "2. **Агент анализа**:\n",
      "   - Анализирует заявку для выделения причин инцидента и способа его закрытия.\n",
      "   - Передает результаты анализа агенту поиска аналогов.\n",
      "\n",
      "3. **Агент поиска аналогов**:\n",
      "   - Ищет аналогичные примеры в базе данных \"ПКАП\".\n",
      "   - Передает найденные примеры агенту заполнения.\n",
      "\n",
      "4. **Агент заполнения**:\n",
      "   - Заполняет заявку на основе анализа и найденных аналогичных примеров.\n",
      "   - Передает заполненную заявку агенту валидации.\n",
      "\n",
      "5. **Агент валидации**:\n",
      "   - Проверяет корректность заполнения заявки.\n",
      "   - Если заявка корректна, передает ее агенту оркестратору.\n",
      "   - Если заявка некорректна, возвращает ее агенту заполнения на доработку.\n",
      "\n",
      "6. **Агент оркестратор**:\n",
      "   - Координирует работу всех агентов.\n",
      "   - Отправляет заполненную заявку обратно в OpenShift.\n",
      "\n",
      "### Итоговый процесс\n",
      "\n",
      "1. Запрос на извлечение заявки поступает в OpenShift.\n",
      "2. Агент извлечения данных извлекает заявку из базы данных \"ПКАП\".\n",
      "3. Агент анализа анализирует заявку.\n",
      "4. Агент поиска аналогов ищет аналогичные примеры.\n",
      "5. Агент заполнения заполняет заявку.\n",
      "6. Агент валидации проверяет корректность заполнения.\n",
      "7. Агент оркестратор отправляет заполненную заявку обратно в OpenShift.\n",
      "\n",
      "Таким образом, система состоит из шести агентов, каждый из которых выполняет свою задачу, а агент оркестратор координирует их работу.\n"
     ]
    }
   ],
   "source": [
    "print(describer_result[\"messages\"][1].content)"
   ]
  },
  {
   "cell_type": "code",
   "execution_count": 75,
   "id": "d1c92227-f441-480c-8cea-9dbc8d7d6b51",
   "metadata": {},
   "outputs": [],
   "source": [
    "messages_2 = {\n",
    "    \"messages\": [\n",
    "        HumanMessage(content=describer_result[\"messages\"][1].content)\n",
    "    ]\n",
    "}"
   ]
  },
  {
   "cell_type": "code",
   "execution_count": 76,
   "id": "38e50f97-e18e-4392-9a88-225ee352f7c6",
   "metadata": {},
   "outputs": [],
   "source": [
    "graph_maker_result = graph_maker_agent_gigachat.invoke(messages_2)"
   ]
  },
  {
   "cell_type": "code",
   "execution_count": 81,
   "id": "cc95f045-744e-413f-ba9c-4390ca428df8",
   "metadata": {},
   "outputs": [],
   "source": [
    "with open(\"giga_graph.txt\", \"w\") as f:\n",
    "    f.write(graph_maker_result[\"messages\"][1].content)"
   ]
  },
  {
   "cell_type": "code",
   "execution_count": 82,
   "id": "22d213e9-3696-4bcb-ad77-48ab26caea6e",
   "metadata": {},
   "outputs": [],
   "source": [
    "with open(\"giga_desc.txt\", \"w\") as f:\n",
    "    f.write(describer_result[\"messages\"][1].content)"
   ]
  },
  {
   "cell_type": "code",
   "execution_count": 80,
   "id": "26c5ad83-635c-4aa1-916c-5c1a6cb4d480",
   "metadata": {},
   "outputs": [
    {
     "data": {
      "text/plain": [
       "'### Шаги для реализации системы автозаполнения заявок инженеров сопровождения:\\n\\n#### 1. Анализ задачи и постановка целей\\n- Определить требования к системе автозаполнения заявок.\\n- Определить источники данных (база данных \"ПКАП\", сервис OpenShift).\\n- Определить формат взаимодействия с инженерами сопровождения.\\n\\n#### 2. Взаимодействие со сторонними системами\\n- Реализовать интерфейс для приема заявок от инженеров сопровождения.\\n- Реализовать интерфейс для отправки заполненных заявок инженерам сопровождения.\\n\\n#### 3. Необходимость агентов\\n- Разработать агента-анализатора для анализа заявок.\\n- Разработать агента-поисковика для поиска аналогичных примеров.\\n- Разработать агента-заполнителя для заполнения заявок.\\n- Разработать агента-оркестратора для координации работы агентов.\\n- Разработать агента-валидатора для проверки корректности заполнения заявок.\\n\\n#### 4. Необходимость агента-оркестратора\\n- Определить задачи и инструменты агента-оркестратора.\\n- Реализовать координацию работы всех агентов.\\n\\n#### 5. Необходимость агента-валидатора\\n- Определить задачи и инструменты агента-валидатора.\\n- Реализовать проверку корректности заполнения заявок.\\n\\n#### 6. Задачи и инструменты каждого агента\\n- Агент-анализатор: анализирует заявку, выделяет причины инцидента и способ его закрытия.\\n- Агент-поисковик: ищет аналогичные примеры в базе данных.\\n- Агент-заполнитель: заполняет заявку на основе анализа и найденных примеров.\\n- Агент-оркестратор: координирует работу всех агентов.\\n- Агент-валидатор: проверяет корректность заполнения заявки.\\n\\n#### 7. Процесс работы системы\\n- Инженер сопровождения отправляет заявку на анализ и автозаполнение.\\n- Агент-оркестратор принимает запрос и передает его агенту-анализатору.\\n- Агент-анализатор анализирует заявку.\\n- Агент-оркестратор передает результаты анализа агенту-поисковику.\\n- Агент-поисковик ищет аналогичные примеры.\\n- Агент-оркестратор передает результаты поиска агенту-заполнителю.\\n- Агент-заполнитель заполняет заявку.\\n- Агент-оркестратор передает заполненную заявку агенту-валидатору.\\n- Агент-валидатор проверяет корректность заполнения.\\n- Если заполнение корректно, агент-оркестратор отправляет заполненную заявку инженеру сопровождения. Если нет, агент-валидатор возвращает задачу на доработку агенту-заполнителю.\\n\\n#### 8. Заключение\\nСистема автозаполнения заявок инженеров сопровождения будет состоять из пяти агентов, каждый из которых выполняет свою задачу, используя необходимые инструменты и взаимодействуя с другими агентами через агента-оркестратора. Это обеспечит корректное и эффективное автозаполнение заявок.\\n\\n---\\n\\n[Для решения вопроса мне не хватает информации: какие именно данные содержатся в базе данных \"ПКАП\"? Какие поля и структуры данных необходимо учитывать при анализе и автозаполнении заявок?]'"
      ]
     },
     "execution_count": 80,
     "metadata": {},
     "output_type": "execute_result"
    }
   ],
   "source": [
    "graph_maker_result[\"messages\"][1].content"
   ]
  },
  {
   "cell_type": "code",
   "execution_count": 73,
   "id": "d75266b2-dc4c-41b0-8e28-02be02e370ee",
   "metadata": {},
   "outputs": [
    {
     "name": "stdout",
     "output_type": "stream",
     "text": [
      "### 1. Анализ задачи и постановка целей\n",
      "Система автозаполнения заявок инженеров сопровождения должна:\n",
      "- Получать данные заявки по инциденту из базы данных \"ПКАП\" через сервис OpenShift.\n",
      "- Анализировать заявку, выделяя причины инцидента и способ его закрытия.\n",
      "- Сравнивать проанализированные данные с аналогичными примерами, которые у нее есть.\n",
      "- В случае нахождения похожего примера, заполнять заявку на основе примера и результата анализа.\n",
      "\n",
      "### 2. Взаимодействие со сторонними системами\n",
      "- **Запрос**: Запрос на анализ и автозаполнение заявки приходит от инженера сопровождения через интерфейс системы.\n",
      "- **Результат**: Заполненная заявка отправляется обратно инженеру сопровождения через интерфейс системы.\n",
      "\n",
      "### 3. Необходимость агентов\n",
      "Для реализации системы потребуется несколько агентов:\n",
      "- **Агент-анализатор**: анализирует заявку, выделяет причины инцидента и способ его закрытия.\n",
      "- **Агент-поисковик**: ищет аналогичные примеры в базе данных.\n",
      "- **Агент-заполнитель**: заполняет заявку на основе анализа и найденных примеров.\n",
      "- **Агент-оркестратор**: координирует работу всех агентов.\n",
      "- **Агент-валидатор**: проверяет корректность заполнения заявки.\n",
      "\n",
      "### 4. Необходимость агента-оркестратора\n",
      "Агент-оркестратор необходим для координации работы всех агентов. Он будет принимать запрос от инженера сопровождения, передавать его агенту-анализатору, затем агенту-поисковику, после чего агенту-заполнителю и, наконец, агенту-валидатору. Если валидатор обнаружит ошибки, он вернет задачу на доработку.\n",
      "\n",
      "### 5. Необходимость агента-валидатора\n",
      "Агент-валидатор необходим для проверки корректности заполнения заявки. Если заполнение не соответствует критериям, он вернет задачу на доработку агенту-заполнителю.\n",
      "\n",
      "### 6. Задачи и инструменты каждого агента\n",
      "- **Агент-анализатор**:\n",
      "  - Задача: анализирует заявку, выделяет причины инцидента и способ его закрытия.\n",
      "  - Инструменты: RAG (поиск аналогичных решений по своей базе данных для более корректной генерации).\n",
      "  - Взаимодействует с: агентом-оркестратором.\n",
      "\n",
      "- **Агент-поисковик**:\n",
      "  - Задача: ищет аналогичные примеры в базе данных.\n",
      "  - Инструменты: RAG (поиск аналогичных решений по своей базе данных для более корректной генерации).\n",
      "  - Взаимодействует с: агентом-оркестратором.\n",
      "\n",
      "- **Агент-заполнитель**:\n",
      "  - Задача: заполняет заявку на основе анализа и найденных примеров.\n",
      "  - Инструменты: API (взаимодействие со сторонними сервисами через API).\n",
      "  - Взаимодействует с: агентом-оркестратором, агентом-валидатором.\n",
      "\n",
      "- **Агент-оркестратор**:\n",
      "  - Задача: координирует работу всех агентов.\n",
      "  - Инструменты: нет.\n",
      "  - Взаимодействует с: всеми агентами.\n",
      "\n",
      "- **Агент-валидатор**:\n",
      "  - Задача: проверяет корректность заполнения заявки.\n",
      "  - Инструменты: нет.\n",
      "  - Взаимодействует с: агентом-оркестратором, агентом-заполнителем.\n",
      "\n",
      "### 7. Процесс работы системы\n",
      "1. Инженер сопровождения отправляет заявку на анализ и автозаполнение через интерфейс системы.\n",
      "2. Агент-оркестратор принимает запрос и передает его агенту-анализатору.\n",
      "3. Агент-анализатор анализирует заявку, выделяет причины инцидента и способ его закрытия.\n",
      "4. Агент-оркестратор передает результаты анализа агенту-поисковику.\n",
      "5. Агент-поисковик ищет аналогичные примеры в базе данных.\n",
      "6. Агент-оркестратор передает результаты поиска агенту-заполнителю.\n",
      "7. Агент-заполнитель заполняет заявку на основе анализа и найденных примеров.\n",
      "8. Агент-оркестратор передает заполненную заявку агенту-валидатору.\n",
      "9. Агент-валидатор проверяет корректность заполнения заявки.\n",
      "10. Если заполнение корректно, агент-оркестратор отправляет заполненную заявку инженеру сопровождения. Если нет, агент-валидатор возвращает задачу на доработку агенту-заполнителю.\n",
      "\n",
      "### 8. Заключение\n",
      "Система автозаполнения заявок инженеров сопровождения будет состоять из пяти агентов: анализатора, поисковика, заполнителя, оркестратора и валидатора. Каждый агент выполняет свою задачу, используя необходимые инструменты и взаимодействуя с другими агентами через агента-оркестратора. Это позволит обеспечить корректное и эффективное автозаполнение заявок.\n"
     ]
    }
   ],
   "source": [
    "print(describer_result[\"messages\"][1].content)"
   ]
  }
 ],
 "metadata": {
  "kernelspec": {
   "display_name": "Python 3 (ipykernel)",
   "language": "python",
   "name": "python3"
  },
  "language_info": {
   "codemirror_mode": {
    "name": "ipython",
    "version": 3
   },
   "file_extension": ".py",
   "mimetype": "text/x-python",
   "name": "python",
   "nbconvert_exporter": "python",
   "pygments_lexer": "ipython3",
   "version": "3.10.12"
  }
 },
 "nbformat": 4,
 "nbformat_minor": 5
}
