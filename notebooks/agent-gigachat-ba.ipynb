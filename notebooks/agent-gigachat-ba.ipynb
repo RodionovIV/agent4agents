{
 "cells": [
  {
   "cell_type": "code",
   "execution_count": 2,
   "id": "e66e5eca-4b31-417f-8895-54e72d36c1e8",
   "metadata": {},
   "outputs": [],
   "source": [
    "from langchain.agents import initialize_agent, AgentType, Tool\n",
    "from langchain.memory import ConversationBufferMemory\n",
    "from langgraph.graph import StateGraph\n",
    "from langchain.chat_models import ChatOpenAI\n",
    "from langchain_gigachat.chat_models import GigaChat\n",
    "from langchain.schema import HumanMessage, SystemMessage, Document, AIMessage\n",
    "from langchain.vectorstores import FAISS\n",
    "from langchain.embeddings import SentenceTransformerEmbeddings\n",
    "from langchain.chains import RetrievalQA\n",
    "from langchain_community.tools import DuckDuckGoSearchRun\n",
    "from langgraph.types import Command\n",
    "from langgraph.prebuilt import create_react_agent\n",
    "from langgraph.checkpoint.memory import MemorySaver\n",
    "from langgraph.graph import StateGraph, END, MessagesState, START\n",
    "from typing import TypedDict, Optional, Literal, List, Dict\n",
    "from typing_extensions import TypedDict\n",
    "\n",
    "import datetime\n",
    "import warnings\n",
    "import os\n",
    "import re"
   ]
  },
  {
   "cell_type": "code",
   "execution_count": 3,
   "id": "3156a8e6-9ab4-489b-a973-49bbd68090a7",
   "metadata": {},
   "outputs": [],
   "source": [
    "warnings.filterwarnings(\"ignore\")"
   ]
  },
  {
   "cell_type": "code",
   "execution_count": 4,
   "id": "315af03e-ecab-405f-b38e-e640705a5997",
   "metadata": {},
   "outputs": [],
   "source": [
    "os.environ[\"GIGACHAT_CREDENTIALS\"] = \"Yjc1YWZhNTItMzYwYS00NmU4LTk4YjctZjU4YzAwMDIyMGJmOjJhNWE3YmVhLTAyYzctNGJhNy05NWE3LWEzY2YwNGQzYzZiNw==\""
   ]
  },
  {
   "cell_type": "code",
   "execution_count": 59,
   "id": "4d343727-0bec-40b1-b507-bc375c397df2",
   "metadata": {},
   "outputs": [],
   "source": [
    "with open(\"../sources/ba_instruction.md\", \"r\") as f:\n",
    "    ba_instruction = f.read()\n",
    "\n",
    "def save_result(result):\n",
    "    format_ = \"%Y_%m_%dT%H_%M_%S\"\n",
    "    datetime_mark = datetime.datetime.now().strftime(format_)\n",
    "    \n",
    "    with open(f\"../tmp/ba_{datetime_mark}.md\", \"w\") as f:\n",
    "        f.write(result[\"result\"])"
   ]
  },
  {
   "cell_type": "code",
   "execution_count": 5,
   "id": "55b54595-2b0d-47dc-8bc2-68a9996d0324",
   "metadata": {},
   "outputs": [],
   "source": [
    "llm = GigaChat(\n",
    "    model=\"GigaChat-2-Max\",\n",
    "    verify_ssl_certs=False,\n",
    "    profanity_check=False,\n",
    "    streaming=False,\n",
    "    max_tokens=8192,\n",
    "    temperature=0.3,\n",
    "    repetition_penalty=1.01\n",
    ")"
   ]
  },
  {
   "cell_type": "code",
   "execution_count": 6,
   "id": "508afe7c-0af7-4a24-8e4a-632a34e169a4",
   "metadata": {},
   "outputs": [],
   "source": [
    "tools = []"
   ]
  },
  {
   "cell_type": "code",
   "execution_count": 7,
   "id": "a31615a9-b5ae-4b09-8a15-f26852819cd0",
   "metadata": {},
   "outputs": [],
   "source": [
    "ba_agent = create_react_agent(llm, tools=[], checkpointer=MemorySaver())"
   ]
  },
  {
   "cell_type": "code",
   "execution_count": 8,
   "id": "091dbb8f-65a5-47d6-87a4-8c130a85f08b",
   "metadata": {},
   "outputs": [],
   "source": [
    "class AgentState(TypedDict):\n",
    "    task: str\n",
    "    messages: List\n",
    "    result: str\n",
    "    \n",
    "class ValidatorResponse(TypedDict):\n",
    "    \"\"\"В поле instructions нужно указать рекомендации. В поле status указать статус задачи [FAIL, SUCCESS]\"\"\"\n",
    "    instructions: str\n",
    "    status: Literal[\"FAIL\", \"SUCCESS\"]"
   ]
  },
  {
   "cell_type": "code",
   "execution_count": 32,
   "id": "d9f014f1-fedc-432d-b89e-39d72de636db",
   "metadata": {},
   "outputs": [],
   "source": [
    "def ba_agent_node(state:AgentState)->Command[Literal[\"ba_validator\"]]:    \n",
    "    print(\"Status: ba_agent_node\")\n",
    "    if \"messages\" in state and state[\"messages\"]:\n",
    "        old_messages = state[\"messages\"]\n",
    "        request = state[\"messages\"][-1].content\n",
    "    else:\n",
    "        old_messages = []\n",
    "        request = ba_prompt.format(task=state[\"task\"], ba_instruction=ba_instruction)\n",
    "    request = {\n",
    "            \"messages\": [HumanMessage(content=request)]\n",
    "        }\n",
    "    response = ba_agent.invoke(request, config=config)\n",
    "    if isinstance(response, dict):\n",
    "        result = response[\"messages\"][-1].content\n",
    "    else:\n",
    "        result = response\n",
    "    return Command(\n",
    "        update={\n",
    "            \"result\": result,\n",
    "            \"messages\": old_messages + [HumanMessage(content=result, name=\"Аналитик\")]\n",
    "        },\n",
    "        goto=\"ba_validator\"\n",
    "    )\n",
    "\n",
    "def ba_validator_node(state:AgentState)->Command[Literal[\"ba_agent\", END]]:\n",
    "    print(\"Status: ba_validator_node\")\n",
    "    return_node = \"ba_agent\"\n",
    "    if not \"messages\" in state or not state[\"messages\"]:\n",
    "        return Command(goto=return_node)\n",
    "    \n",
    "    prompt = ba_validator_prompt.format(task=state[\"task\"], format=format_)\n",
    "    system = SystemMessage(content=prompt)\n",
    "    request = [system] + state[\"messages\"]\n",
    "\n",
    "    validator_msgs_fount = len(list(filter(lambda x: x.name==\"Валидатор\", state[\"messages\"])))\n",
    "    response = llm.invoke(request)\n",
    "    \n",
    "    response = response.content\n",
    "    print(f\"RESPONSE: {response}\")\n",
    "    match_json = re.search(r'```json\\s*(.*?)\\s*```', response, re.DOTALL)\n",
    "    if match_json:\n",
    "        response = eval(match_json.group(1))\n",
    "    else:\n",
    "        response = {\"status\":\"SUCCESS\", \"instructions\":\"\"}\n",
    "    \n",
    "    result = response[\"instructions\"]\n",
    "    print(f\"STATUS: {response['status']}\\n\\nVALIDATOR: {result}\")\n",
    "    \n",
    "    if response[\"status\"]==\"SUCCESS\" or validator_msgs_fount+1 > 3:\n",
    "        goto = END\n",
    "    else:\n",
    "        goto = return_node\n",
    "    return Command(\n",
    "            update={\n",
    "            \"messages\": state[\"messages\"] + [HumanMessage(content=result, name=\"Валидатор\")],\n",
    "            },\n",
    "            goto=goto\n",
    "        )"
   ]
  },
  {
   "cell_type": "code",
   "execution_count": 33,
   "id": "9dc4d321-cfb3-4b80-b66b-ad9f22e69e8b",
   "metadata": {},
   "outputs": [],
   "source": [
    "ba_prompt = (\n",
    "    \"Ты - превосходный бизнес-аналитик.\"\n",
    "    \" Твоя задача - составить бизнес-требования к задаче {task} в соответствии с инструкцией {ba_instruction}.\"\n",
    ")"
   ]
  },
  {
   "cell_type": "code",
   "execution_count": 34,
   "id": "9ba7e6b9-5fca-4482-b7ca-99c5d7de6470",
   "metadata": {},
   "outputs": [],
   "source": [
    "format_ =\"\"\"{\n",
    "    \"instructions\": \"Здесь укажи свои рекомендации или оставь строку пустой, если рекомендаций нет\",\n",
    "    \"status\": \"FAIL\" если требуется доработка иначе \"SUCCESS\"\n",
    "}\"\"\""
   ]
  },
  {
   "cell_type": "code",
   "execution_count": 35,
   "id": "12a6c78a-68ab-4678-b77e-703a32634c85",
   "metadata": {},
   "outputs": [],
   "source": [
    "ba_validator_prompt = \"\"\"Ты - Валидатор. Ты прекрасно умеешь критиковать написанные бизнес-требования для достижения наилучшего результата. \n",
    "Ты работаешь вместе с Аналитиком. Проанализуруй бизнес-требования, которые предложил аналитик к задаче {task}. \n",
    "- Проверь, что бизнес-требования, которые предложил аналитик, хорошо подходят для решения задачи.\n",
    "- Проверь, что хорошо описаны как основные сценарии, так и альтернативные.\n",
    "- Проверь, что хорошо явно выделена User Story.\n",
    "\n",
    "Если сценарий нужно улучшать, напиши свои замечания и верни сценарий на дорабоку, ответив FAIL В конце инструкции попроси аналитика заново полностью описать требования, а не вносить изменения в существующие. \n",
    "Если Аналитик хорошо выполнил свою работу и замечаний нет, ответь SUCCESS.\n",
    "\n",
    "Ответ дай в следующем формате json:\n",
    "```json\n",
    "{format}\n",
    "```\n",
    "\"\"\""
   ]
  },
  {
   "cell_type": "code",
   "execution_count": 36,
   "id": "e5fb723c-c400-4c7f-bbcb-a961e1b47a55",
   "metadata": {},
   "outputs": [],
   "source": [
    "config = {\"configurable\": {\"thread_id\": \"thread_id123\"}}"
   ]
  },
  {
   "cell_type": "code",
   "execution_count": 37,
   "id": "b937d855-2484-47b9-b44d-18b0039fbf0a",
   "metadata": {},
   "outputs": [],
   "source": [
    "state_schema = AgentState\n",
    "builder = StateGraph(state_schema=state_schema)\n",
    "builder.set_entry_point(\"ba_agent\")\n",
    "builder.add_node(\"ba_agent\", ba_agent_node)\n",
    "builder.add_node(\"ba_validator\", ba_validator_node)\n",
    "graph = builder.compile()"
   ]
  },
  {
   "cell_type": "code",
   "execution_count": 38,
   "id": "aba68214-2e52-4a0f-a9d5-af622b850c4a",
   "metadata": {},
   "outputs": [],
   "source": [
    "with open(\"../tmp/desc_2025_05_18T03_55_01.md\", \"r\") as f:\n",
    "    task = f.read() "
   ]
  },
  {
   "cell_type": "code",
   "execution_count": 39,
   "id": "89aaa13b-541c-4b6d-8232-37b51516c293",
   "metadata": {},
   "outputs": [],
   "source": [
    "initial_state = {\n",
    "    \"task\": task\n",
    "}"
   ]
  },
  {
   "cell_type": "code",
   "execution_count": 40,
   "id": "2aae9ed3-7149-4c37-84ea-1af663831236",
   "metadata": {},
   "outputs": [
    {
     "name": "stdout",
     "output_type": "stream",
     "text": [
      "Status: ba_agent_node\n",
      "Status: ba_validator_node\n",
      "RESPONSE: ```json\n",
      "{\n",
      "    \"instructions\": \"В целом, бизнес-требования хорошо структурированы и охватывают все необходимые аспекты проекта. Однако, есть несколько моментов, которые стоит уточнить или улучшить для достижения наилучшего результата:\\n\\n1. **User Story явно не выделена**: В требованиях не указана конкретная User Story, которая бы четко описывала, кто, что и зачем делает. Это важно для понимания конечной цели проекта и его ценности для пользователей.\\n\\n2. **Детализация взаимодействия между агентами**: В разделе 'Взаимодействие между агентами' можно добавить больше деталей о том, как именно происходит передача данных между агентами, какие форматы данных используются и как обеспечивается безопасность передачи данных.\\n\\n3. **Обработка ошибок**: В разделе 'Альтернативные сценарии' можно добавить больше информации о том, как именно обрабатываются ошибки, какие действия предпринимаются в случае возникновения ошибок и как система уведомляет администратора о проблемах.\\n\\n4. **Тестирование и внедрение**: В разделе 'Объем работ' можно добавить больше информации о том, какие именно тесты будут проводиться, как будет организовано внедрение системы и какие меры будут приняты для минимизации рисков.\\n\\n5. **Ограничения проекта**: В разделе 'Ограничения проекта' можно добавить больше информации о том, какие именно ограничения существуют и как они будут учитываться в процессе разработки и внедрения системы.\\n\\nПосле внесения этих улучшений, требования станут более четкими и понятными, что поможет избежать недопониманий и ошибок в процессе реализации проекта.\",\n",
      "    \"status\": \"FAIL\"\n",
      "}\n",
      "```\n",
      "STATUS: FAIL\n",
      "\n",
      "VALIDATOR: В целом, бизнес-требования хорошо структурированы и охватывают все необходимые аспекты проекта. Однако, есть несколько моментов, которые стоит уточнить или улучшить для достижения наилучшего результата:\n",
      "\n",
      "1. **User Story явно не выделена**: В требованиях не указана конкретная User Story, которая бы четко описывала, кто, что и зачем делает. Это важно для понимания конечной цели проекта и его ценности для пользователей.\n",
      "\n",
      "2. **Детализация взаимодействия между агентами**: В разделе 'Взаимодействие между агентами' можно добавить больше деталей о том, как именно происходит передача данных между агентами, какие форматы данных используются и как обеспечивается безопасность передачи данных.\n",
      "\n",
      "3. **Обработка ошибок**: В разделе 'Альтернативные сценарии' можно добавить больше информации о том, как именно обрабатываются ошибки, какие действия предпринимаются в случае возникновения ошибок и как система уведомляет администратора о проблемах.\n",
      "\n",
      "4. **Тестирование и внедрение**: В разделе 'Объем работ' можно добавить больше информации о том, какие именно тесты будут проводиться, как будет организовано внедрение системы и какие меры будут приняты для минимизации рисков.\n",
      "\n",
      "5. **Ограничения проекта**: В разделе 'Ограничения проекта' можно добавить больше информации о том, какие именно ограничения существуют и как они будут учитываться в процессе разработки и внедрения системы.\n",
      "\n",
      "После внесения этих улучшений, требования станут более четкими и понятными, что поможет избежать недопониманий и ошибок в процессе реализации проекта.\n",
      "Status: ba_agent_node\n",
      "Status: ba_validator_node\n",
      "RESPONSE: ```json\n",
      "{\n",
      "    \"instructions\": \"\",\n",
      "    \"status\": \"SUCCESS\"\n",
      "}\n",
      "```\n",
      "STATUS: SUCCESS\n",
      "\n",
      "VALIDATOR: \n"
     ]
    }
   ],
   "source": [
    "result = graph.invoke(initial_state)"
   ]
  },
  {
   "cell_type": "code",
   "execution_count": 60,
   "id": "f2400928-45aa-426a-9b4d-99732a1743fb",
   "metadata": {},
   "outputs": [],
   "source": [
    "save_result(result)"
   ]
  }
 ],
 "metadata": {
  "kernelspec": {
   "display_name": "Python 3 (ipykernel)",
   "language": "python",
   "name": "python3"
  },
  "language_info": {
   "codemirror_mode": {
    "name": "ipython",
    "version": 3
   },
   "file_extension": ".py",
   "mimetype": "text/x-python",
   "name": "python",
   "nbconvert_exporter": "python",
   "pygments_lexer": "ipython3",
   "version": "3.10.12"
  }
 },
 "nbformat": 4,
 "nbformat_minor": 5
}
