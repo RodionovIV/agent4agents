{
 "cells": [
  {
   "cell_type": "code",
   "execution_count": 1,
   "id": "e66e5eca-4b31-417f-8895-54e72d36c1e8",
   "metadata": {},
   "outputs": [],
   "source": [
    "from langchain.agents import initialize_agent, AgentType, Tool\n",
    "from langchain.memory import ConversationBufferMemory\n",
    "from langgraph.graph import StateGraph\n",
    "from langchain.chat_models import ChatOpenAI\n",
    "from langchain_gigachat.chat_models import GigaChat\n",
    "from langchain.schema import HumanMessage, SystemMessage, Document, AIMessage\n",
    "from langchain.vectorstores import FAISS\n",
    "from langchain.embeddings import SentenceTransformerEmbeddings\n",
    "from langchain.chains import RetrievalQA\n",
    "from langchain_community.tools import DuckDuckGoSearchRun\n",
    "from langgraph.types import Command\n",
    "from langgraph.prebuilt import create_react_agent\n",
    "from langgraph.checkpoint.memory import MemorySaver\n",
    "from langgraph.graph import StateGraph, END, MessagesState, START\n",
    "from typing import TypedDict, Optional, Literal, List, Dict\n",
    "from typing_extensions import TypedDict\n",
    "\n",
    "import datetime\n",
    "import warnings\n",
    "import os\n",
    "import re"
   ]
  },
  {
   "cell_type": "code",
   "execution_count": 22,
   "id": "cc2c88ff-75c5-45d7-95a2-ff43defc9012",
   "metadata": {},
   "outputs": [
    {
     "name": "stdout",
     "output_type": "stream",
     "text": [
      "gigachat                  0.1.39.post1\n",
      "langchain-gigachat        0.3.10\n"
     ]
    }
   ],
   "source": [
    "!pip list | grep gigachat"
   ]
  },
  {
   "cell_type": "code",
   "execution_count": 2,
   "id": "3156a8e6-9ab4-489b-a973-49bbd68090a7",
   "metadata": {},
   "outputs": [],
   "source": [
    "warnings.filterwarnings(\"ignore\")"
   ]
  },
  {
   "cell_type": "code",
   "execution_count": 3,
   "id": "315af03e-ecab-405f-b38e-e640705a5997",
   "metadata": {},
   "outputs": [],
   "source": [
    "os.environ[\"GIGACHAT_CREDENTIALS\"] = \"Yjc1YWZhNTItMzYwYS00NmU4LTk4YjctZjU4YzAwMDIyMGJmOjJhNWE3YmVhLTAyYzctNGJhNy05NWE3LWEzY2YwNGQzYzZiNw==\""
   ]
  },
  {
   "cell_type": "code",
   "execution_count": 4,
   "id": "4d343727-0bec-40b1-b507-bc375c397df2",
   "metadata": {},
   "outputs": [],
   "source": [
    "with open(\"../sources/ba_instruction.md\", \"r\") as f:\n",
    "    ba_instruction = f.read()\n",
    "\n",
    "def save_result(result):\n",
    "    format_ = \"%Y_%m_%dT%H_%M_%S\"\n",
    "    datetime_mark = datetime.datetime.now().strftime(format_)\n",
    "    \n",
    "    with open(f\"../tmp/ba_{datetime_mark}.md\", \"w\") as f:\n",
    "        f.write(result[\"result\"])"
   ]
  },
  {
   "cell_type": "code",
   "execution_count": 5,
   "id": "55b54595-2b0d-47dc-8bc2-68a9996d0324",
   "metadata": {},
   "outputs": [],
   "source": [
    "llm = GigaChat(\n",
    "    model=\"GigaChat-2-Max\",\n",
    "    verify_ssl_certs=False,\n",
    "    profanity_check=False,\n",
    "    streaming=False,\n",
    "    max_tokens=8192,\n",
    "    temperature=0.3,\n",
    "    repetition_penalty=1.01,\n",
    "    timeout=180\n",
    ")"
   ]
  },
  {
   "cell_type": "code",
   "execution_count": 6,
   "id": "508afe7c-0af7-4a24-8e4a-632a34e169a4",
   "metadata": {},
   "outputs": [],
   "source": [
    "tools = []"
   ]
  },
  {
   "cell_type": "code",
   "execution_count": 7,
   "id": "a31615a9-b5ae-4b09-8a15-f26852819cd0",
   "metadata": {},
   "outputs": [],
   "source": [
    "ba_agent = create_react_agent(llm, tools=[], checkpointer=MemorySaver())"
   ]
  },
  {
   "cell_type": "code",
   "execution_count": 8,
   "id": "091dbb8f-65a5-47d6-87a4-8c130a85f08b",
   "metadata": {},
   "outputs": [],
   "source": [
    "class AgentState(TypedDict):\n",
    "    task: str\n",
    "    messages: List\n",
    "    result: str\n",
    "    questions: List\n",
    "    \n",
    "class ValidatorResponse(TypedDict):\n",
    "    \"\"\"В поле instructions нужно указать рекомендации. В поле status указать статус задачи [FAIL, SUCCESS]\"\"\"\n",
    "    instructions: str\n",
    "    status: Literal[\"FAIL\", \"SUCCESS\"]"
   ]
  },
  {
   "cell_type": "code",
   "execution_count": 9,
   "id": "dfd611be-408f-434c-8c02-1ff0cd518ebf",
   "metadata": {},
   "outputs": [],
   "source": [
    "def user_node(state:AgentState)->Command[Literal[\"ba_agent\"]]:    \n",
    "    print(\"Status: user_node\")\n",
    "    print(state[\"questions\"])\n",
    "    msg = input()\n",
    "    if \"messages\" in state and state[\"messages\"]:\n",
    "        old_messages = state[\"messages\"]\n",
    "    else:\n",
    "        old_messages = []\n",
    "    return Command(\n",
    "        update={\n",
    "            \"messages\": old_messages + [HumanMessage(content=msg)]\n",
    "        },\n",
    "        goto=\"ba_agent\"\n",
    "    )"
   ]
  },
  {
   "cell_type": "code",
   "execution_count": 10,
   "id": "d9f014f1-fedc-432d-b89e-39d72de636db",
   "metadata": {},
   "outputs": [],
   "source": [
    "def ba_agent_node(state:AgentState)->Command[Literal[\"ba_validator\", \"user\"]]:    \n",
    "    print(\"Status: ba_agent_node\")\n",
    "    if \"messages\" in state and state[\"messages\"]:\n",
    "        old_messages = state[\"messages\"]\n",
    "        request = state[\"messages\"][-1].content\n",
    "    else:\n",
    "        old_messages = []\n",
    "        request = ba_prompt.format(task=state[\"task\"], ba_instruction=ba_instruction)\n",
    "    request = {\n",
    "            \"messages\": [HumanMessage(content=request)]\n",
    "        }\n",
    "    response = ba_agent.invoke(request, config=config)\n",
    "    if isinstance(response, dict):\n",
    "        result = response[\"messages\"][-1].content\n",
    "    else:\n",
    "        result = response\n",
    "    matches = re.findall(r'\\[ВОПРОС\\](.*?)\\[/ВОПРОС\\]', result, re.DOTALL)\n",
    "    if matches:\n",
    "        return Command(\n",
    "            update={\n",
    "                \"questions\": matches\n",
    "            },\n",
    "            goto=\"user\"\n",
    "        )\n",
    "        \n",
    "    return Command(\n",
    "        update={\n",
    "            \"result\": result,\n",
    "            \"messages\": old_messages + [HumanMessage(content=result, name=\"Аналитик\")]\n",
    "        },\n",
    "        goto=\"ba_validator\"\n",
    "    )\n",
    "\n",
    "def ba_validator_node(state:AgentState)->Command[Literal[\"ba_agent\", END]]:\n",
    "    print(\"Status: ba_validator_node\")\n",
    "    return_node = \"ba_agent\"\n",
    "    if not \"messages\" in state or not state[\"messages\"]:\n",
    "        return Command(goto=return_node)\n",
    "    \n",
    "    prompt = ba_validator_prompt.format(task=state[\"task\"], format=format_)\n",
    "    system = SystemMessage(content=prompt)\n",
    "    request = [system] + state[\"messages\"]\n",
    "\n",
    "    validator_msgs_fount = len(list(filter(lambda x: x.name==\"Валидатор\", state[\"messages\"])))\n",
    "    response = llm.invoke(request)\n",
    "    \n",
    "    response = response.content\n",
    "    print(f\"RESPONSE: {response}\")\n",
    "    match_json = re.search(r'```json\\s*(.*?)\\s*```', response, re.DOTALL)\n",
    "    if match_json:\n",
    "        response = eval(match_json.group(1))\n",
    "    else:\n",
    "        response = {\"status\":\"SUCCESS\", \"instructions\":\"\"}\n",
    "    \n",
    "    result = response[\"instructions\"]\n",
    "    print(f\"STATUS: {response['status']}\\n\\nVALIDATOR: {result}\")\n",
    "    \n",
    "    if response[\"status\"]==\"SUCCESS\" or validator_msgs_fount+1 > 3:\n",
    "        goto = END\n",
    "    else:\n",
    "        goto = return_node\n",
    "    return Command(\n",
    "            update={\n",
    "            \"messages\": state[\"messages\"] + [HumanMessage(content=result, name=\"Валидатор\")],\n",
    "            },\n",
    "            goto=goto\n",
    "        )"
   ]
  },
  {
   "cell_type": "code",
   "execution_count": 27,
   "id": "9dc4d321-cfb3-4b80-b66b-ad9f22e69e8b",
   "metadata": {},
   "outputs": [],
   "source": [
    "ba_prompt = (\n",
    "    \"Ты - превосходный бизнес-аналитик.\"\n",
    "    \" Твоя задача - составить бизнес-требования к задаче {task} в соответствии с инструкцией {ba_instruction}.\"\n",
    "    \" Если для составления требований тебе необходима дополнительная информация, сформируй вопросы и оберни каждый вопрос в теги [ВОПРОС][/ВОПРОС].\"\n",
    "    \"\\n\\nПример: [ВОПРОС]Кто основные потребители сервиса[/ВОПРОС]\"\n",
    "    \"\\n[ВОПРОС]Какие сроки выполнения проекта?[/ВОПРОС]\"\n",
    ")"
   ]
  },
  {
   "cell_type": "code",
   "execution_count": 28,
   "id": "e672ee35-2302-4b13-8603-6e9fe474f9ed",
   "metadata": {},
   "outputs": [
    {
     "name": "stdout",
     "output_type": "stream",
     "text": [
      "Ты - превосходный бизнес-аналитик. Твоя задача - составить бизнес-требования к задаче {task} в соответствии с инструкцией {ba_instruction}. Если для составления требований тебе необходима дополнительная информация, сформируй вопросы и оберни каждый вопрос в теги [ВОПРОС][/ВОПРОС].\n",
      "\n",
      "Пример: [ВОПРОС]Кто основные потребители сервиса[/ВОПРОС]\n",
      "[ВОПРОС]Какие сроки выполнения проекта?[/ВОПРОС]\n"
     ]
    }
   ],
   "source": [
    "print(ba_prompt)"
   ]
  },
  {
   "cell_type": "code",
   "execution_count": 12,
   "id": "9ba7e6b9-5fca-4482-b7ca-99c5d7de6470",
   "metadata": {},
   "outputs": [],
   "source": [
    "format_ =\"\"\"{\n",
    "    \"instructions\": \"Здесь укажи свои рекомендации или оставь строку пустой, если рекомендаций нет\",\n",
    "    \"status\": \"FAIL\" если требуется доработка иначе \"SUCCESS\"\n",
    "}\"\"\""
   ]
  },
  {
   "cell_type": "code",
   "execution_count": 13,
   "id": "12a6c78a-68ab-4678-b77e-703a32634c85",
   "metadata": {},
   "outputs": [],
   "source": [
    "ba_validator_prompt = \"\"\"Ты - Валидатор. Ты прекрасно умеешь критиковать написанные бизнес-требования для достижения наилучшего результата. \n",
    "Ты работаешь вместе с Аналитиком. Проанализуруй бизнес-требования, которые предложил аналитик к задаче {task}. \n",
    "- Проверь, что бизнес-требования, которые предложил аналитик, хорошо подходят для решения задачи.\n",
    "- Проверь, что хорошо описаны как основные сценарии, так и альтернативные.\n",
    "- Проверь, что хорошо явно выделена User Story.\n",
    "\n",
    "Если сценарий нужно улучшать, напиши свои замечания и верни сценарий на дорабоку, ответив FAIL В конце инструкции попроси аналитика заново полностью описать требования, а не вносить изменения в существующие. \n",
    "Если Аналитик хорошо выполнил свою работу и замечаний нет, ответь SUCCESS.\n",
    "\n",
    "Ответ дай в следующем формате json:\n",
    "```json\n",
    "{format}\n",
    "```\n",
    "\"\"\""
   ]
  },
  {
   "cell_type": "code",
   "execution_count": 14,
   "id": "e5fb723c-c400-4c7f-bbcb-a961e1b47a55",
   "metadata": {},
   "outputs": [],
   "source": [
    "config = {\"configurable\": {\"thread_id\": \"thread_id12345\"}}"
   ]
  },
  {
   "cell_type": "code",
   "execution_count": 15,
   "id": "b937d855-2484-47b9-b44d-18b0039fbf0a",
   "metadata": {},
   "outputs": [],
   "source": [
    "state_schema = AgentState\n",
    "builder = StateGraph(state_schema=state_schema)\n",
    "builder.set_entry_point(\"ba_agent\")\n",
    "builder.add_node(\"user\", user_node)\n",
    "builder.add_node(\"ba_agent\", ba_agent_node)\n",
    "builder.add_node(\"ba_validator\", ba_validator_node)\n",
    "graph = builder.compile()"
   ]
  },
  {
   "cell_type": "code",
   "execution_count": 16,
   "id": "aba68214-2e52-4a0f-a9d5-af622b850c4a",
   "metadata": {},
   "outputs": [],
   "source": [
    "with open(\"../tmp/desc_2025_05_18T03_55_01.md\", \"r\") as f:\n",
    "    task = f.read() "
   ]
  },
  {
   "cell_type": "code",
   "execution_count": 17,
   "id": "89aaa13b-541c-4b6d-8232-37b51516c293",
   "metadata": {},
   "outputs": [],
   "source": [
    "initial_state = {\n",
    "    \"task\": task\n",
    "}"
   ]
  },
  {
   "cell_type": "code",
   "execution_count": 21,
   "id": "8b8949a4-0372-413a-97c0-298c7d0803ec",
   "metadata": {},
   "outputs": [
    {
     "name": "stdout",
     "output_type": "stream",
     "text": [
      "### Бизнес-требования к задаче автоматизации обработки заявок\n",
      "\n",
      "#### 1. Резюме\n",
      "В компании существует проблема неэффективной обработки заявок на инциденты, что приводит к увеличению времени реакции на инциденты и снижению удовлетворенности клиентов. Для решения этой проблемы предлагается автоматизировать процесс обработки заявок с помощью системы, состоящей из пяти агентов: анализатора, сравнивателя, заполнителя, валидатора и оркестратора. Автоматизация позволит сократить время обработки заявок, повысить точность и снизить нагрузку на сотрудников.\n",
      "\n",
      "#### 2. Предпосылки и необходимость\n",
      "В текущей системе обработка заявок осуществляется вручную, что приводит к следующим проблемам:\n",
      "- Длительное время обработки заявок.\n",
      "- Высокий уровень ошибок при заполнении заявок.\n",
      "- Низкая удовлетворенность клиентов.\n",
      "- Высокая нагрузка на сотрудников.\n",
      "\n",
      "Для устранения этих проблем необходимо автоматизировать процесс обработки заявок, что позволит:\n",
      "- Сократить время обработки заявок.\n",
      "- Повысить точность заполнения заявок.\n",
      "- Снизить нагрузку на сотрудников.\n",
      "- Повысить удовлетворенность клиентов.\n",
      "\n",
      "#### 3. Бизнес-цели\n",
      "Цель проекта — автоматизировать процесс обработки заявок на инциденты, что позволит:\n",
      "- Сократить среднее время обработки заявки на 30%.\n",
      "- Повысить точность заполнения заявок до 95%.\n",
      "- Снизить нагрузку на сотрудников на 20%.\n",
      "- Повысить удовлетворенность клиентов на 15%.\n",
      "\n",
      "#### 4. Объем работ\n",
      "Проект включает следующие этапы:\n",
      "- Анализ текущих процессов обработки заявок.\n",
      "- Разработка архитектуры системы.\n",
      "- Реализация агентов: анализатора, сравнивателя, заполнителя, валидатора и оркестратора.\n",
      "- Интеграция с OpenShift и базой данных \"ПКАП\".\n",
      "- Тестирование и отладка системы.\n",
      "- Внедрение и обучение сотрудников.\n",
      "\n",
      "#### 5. Требования к функциональности проекта\n",
      "Система должна обеспечивать:\n",
      "- Автоматический анализ заявок.\n",
      "- Поиск аналогичных заявок в базе данных.\n",
      "- Заполнение заявок на основе анализа и найденных примеров.\n",
      "- Проверку корректности заполнения заявок.\n",
      "- Координацию работы всех агентов.\n",
      "\n",
      "#### 6. Основные стейкхолдеры\n",
      "- Бизнес-аналитики.\n",
      "- Разработчики.\n",
      "- Администраторы OpenShift.\n",
      "- Сотрудники, обрабатывающие заявки.\n",
      "- Руководство компании.\n",
      "\n",
      "#### 7. Ограничения проекта\n",
      "- Текущая инфраструктура OpenShift не поддерживает некоторые функции, необходимые для интеграции.\n",
      "- База данных \"ПКАП\" имеет ограничения по объему хранимых данных.\n",
      "- Текущие сотрудники не обладают достаточными навыками для работы с новой системой.\n",
      "\n",
      "#### 8. Сценарии использования (User Stories)\n",
      "\n",
      "##### 1. Обработка новой заявки\n",
      "**Как сотрудник службы поддержки, я хочу автоматически получать заполненную заявку на инцидент, чтобы быстро и точно обработать запрос клиента.**\n",
      "\n",
      "**Шаги:**\n",
      "1. Сотрудник получает новую заявку из OpenShift.\n",
      "2. Агент-анализатор анализирует заявку и выделяет причины инцидента и способ его закрытия.\n",
      "3. Агент-сравниватель ищет аналогичные примеры в базе данных.\n",
      "4. Агент-заполнитель заполняет заявку на основе анализа и найденного примера.\n",
      "5. Агент-валидатор проверяет корректность заполнения заявки.\n",
      "6. Если заявка заполнена корректно, она отправляется обратно в OpenShift.\n",
      "\n",
      "##### 2. Обработка заявки без аналога\n",
      "**Как сотрудник службы поддержки, я хочу получить заполненную заявку даже в случае отсутствия аналогичного примера, чтобы не задерживать обработку запроса клиента.**\n",
      "\n",
      "**Шаги:**\n",
      "1. Сотрудник получает новую заявку из OpenShift.\n",
      "2. Агент-анализатор анализирует заявку и выделяет причины инцидента и способ его закрытия.\n",
      "3. Агент-сравниватель не находит аналогичную заявку в базе данных.\n",
      "4. Агент-заполнитель заполняет заявку на основе только анализа.\n",
      "5. Агент-валидатор проверяет корректность заполнения заявки.\n",
      "6. Если заявка заполнена корректно, она отправляется обратно в OpenShift.\n",
      "\n",
      "##### 3. Обработка некорректных данных\n",
      "**Как сотрудник службы поддержки, я хочу, чтобы система автоматически обрабатывала некорректные данные, чтобы избежать задержек в обработке заявок.**\n",
      "\n",
      "**Шаги:**\n",
      "1. Сотрудник получает новую заявку из OpenShift.\n",
      "2. Агент-анализатор обнаруживает некорректные данные.\n",
      "3. Агент-оркестратор отправляет запрос на повторную передачу данных из OpenShift.\n",
      "4. Если повторная передача данных также некорректна, агент-оркестратор уведомляет администратора системы.\n",
      "\n",
      "#### 9. Критерии оценки успешности проекта\n",
      "Для оценки успешности проекта будут использованы следующие метрики:\n",
      "- **Среднее время обработки заявки**: снижение на 30% по сравнению с текущим показателем.\n",
      "- **Точность заполнения заявок**: повышение до 95%.\n",
      "- **Нагрузка на сотрудников**: снижение на 20%.\n",
      "- **Удовлетворенность клиентов**: повышение на 15%.\n",
      "\n",
      "#### 10. График\n",
      "Проект планируется завершить в течение 6 месяцев:\n",
      "- 1 месяц — анализ и проектирование.\n",
      "- 3 месяца — разработка и тестирование.\n",
      "- 2 месяца — внедрение и обучение.\n",
      "\n",
      "#### 11. Анализ затрат и прибыли\n",
      "Ожидаемые затраты на проект:\n",
      "- Разработка и тестирование — 1 млн рублей.\n",
      "- Внедрение и обучение — 500 тыс. рублей.\n",
      "- Поддержка и обслуживание — 200 тыс. рублей в год.\n",
      "\n",
      "Ожидаемые доходы:\n",
      "- Сокращение времени обработки заявок позволит сэкономить 500 тыс. рублей в год.\n",
      "- Повышение точности заполнения заявок снизит затраты на исправление ошибок на 300 тыс. рублей в год.\n",
      "- Повышение удовлетворенности клиентов увеличит доход на 1 млн рублей в год.\n",
      "\n",
      "Таким образом, проект окупится в течение первого года и принесет дополнительную прибыль в последующие годы.\n"
     ]
    }
   ],
   "source": [
    "print(result[\"result\"])"
   ]
  },
  {
   "cell_type": "code",
   "execution_count": 18,
   "id": "2aae9ed3-7149-4c37-84ea-1af663831236",
   "metadata": {},
   "outputs": [
    {
     "name": "stdout",
     "output_type": "stream",
     "text": [
      "Status: ba_agent_node\n",
      "Status: user_node\n",
      "['Какие проблемы в текущей системе обработки заявок приводят к необходимости автоматизации?', 'Какие конкретные показатели эффективности (KPI) планируется улучшить с помощью автоматизации?', 'Какие технические ограничения существуют в текущей инфраструктуре OpenShift и базе данных \"ПКАП\"?', 'Какие дополнительные инструменты или технологии планируется использовать для реализации проекта?', 'Какие риски могут возникнуть при реализации проекта и как они будут минимизированы?', 'Какие ресурсы (человеческие, финансовые, технические) необходимы для реализации проекта?', 'Какие сроки выполнения проекта и его этапов?', 'Какие ожидаемые затраты и доходы от реализации проекта?']\n"
     ]
    },
    {
     "name": "stdin",
     "output_type": "stream",
     "text": [
      " Придумай сам\n"
     ]
    },
    {
     "name": "stdout",
     "output_type": "stream",
     "text": [
      "Status: ba_agent_node\n",
      "Status: ba_validator_node\n",
      "RESPONSE: ```json\n",
      "{\n",
      "    \"instructions\": \"В предоставленных бизнес-требованиях отсутствует описание конкретных сценариев использования (User Stories), что затрудняет понимание того, как именно система будет использоваться конечными пользователями. Также не указаны конкретные критерии оценки успешности проекта, такие как метрики для измерения достижения поставленных целей. Необходимо добавить раздел с описанием сценариев использования и критериев оценки успешности проекта.\",\n",
      "    \"status\": \"FAIL\"\n",
      "}\n",
      "``` \n",
      "\n",
      "Пожалуйста, полностью опиши заново бизнес-требования с учетом указанных замечаний.\n",
      "STATUS: FAIL\n",
      "\n",
      "VALIDATOR: В предоставленных бизнес-требованиях отсутствует описание конкретных сценариев использования (User Stories), что затрудняет понимание того, как именно система будет использоваться конечными пользователями. Также не указаны конкретные критерии оценки успешности проекта, такие как метрики для измерения достижения поставленных целей. Необходимо добавить раздел с описанием сценариев использования и критериев оценки успешности проекта.\n",
      "Status: ba_agent_node\n",
      "Status: ba_validator_node\n",
      "RESPONSE: ```json\n",
      "{\n",
      "    \"instructions\": \"\",\n",
      "    \"status\": \"SUCCESS\"\n",
      "}\n",
      "```\n",
      "STATUS: SUCCESS\n",
      "\n",
      "VALIDATOR: \n"
     ]
    }
   ],
   "source": [
    "result = graph.invoke(initial_state)"
   ]
  },
  {
   "cell_type": "code",
   "execution_count": 60,
   "id": "f2400928-45aa-426a-9b4d-99732a1743fb",
   "metadata": {},
   "outputs": [],
   "source": [
    "save_result(result)"
   ]
  }
 ],
 "metadata": {
  "kernelspec": {
   "display_name": "Python 3 (ipykernel)",
   "language": "python",
   "name": "python3"
  },
  "language_info": {
   "codemirror_mode": {
    "name": "ipython",
    "version": 3
   },
   "file_extension": ".py",
   "mimetype": "text/x-python",
   "name": "python",
   "nbconvert_exporter": "python",
   "pygments_lexer": "ipython3",
   "version": "3.10.12"
  }
 },
 "nbformat": 4,
 "nbformat_minor": 5
}
