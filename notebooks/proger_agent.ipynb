{
 "cells": [
  {
   "cell_type": "code",
   "execution_count": null,
   "id": "046f52d5-a148-49fe-81fa-0281eabde284",
   "metadata": {},
   "outputs": [],
   "source": [
    "from credentials import Credentials\n",
    "\n",
    "from langchain.agents import initialize_agent, AgentType, Tool\n",
    "from langchain.memory import ConversationBufferMemory\n",
    "from langgraph.graph import StateGraph\n",
    "from langchain.chat_models import ChatOpenAI\n",
    "from langchain_openai import ChatOpenAI as CH\n",
    "from langchain.schema import HumanMessage, SystemMessage, Document, AIMessage\n",
    "from langchain.vectorstores import FAISS\n",
    "from langchain.embeddings import SentenceTransformerEmbeddings\n",
    "from langchain.chains import RetrievalQA\n",
    "from langchain_community.tools import DuckDuckGoSearchRun\n",
    "from langgraph.types import Command\n",
    "\n",
    "from langgraph.graph import StateGraph, END, MessagesState, START\n",
    "from typing import TypedDict, Optional, Literal, List, Dict\n",
    "from typing_extensions import TypedDict\n",
    "\n",
    "\n",
    "import warnings\n",
    "import os"
   ]
  },
  {
   "cell_type": "code",
   "execution_count": null,
   "id": "4be7b735-1d4f-4a75-960e-54bbad408d1b",
   "metadata": {},
   "outputs": [],
   "source": [
    "creds = Credentials()"
   ]
  },
  {
   "cell_type": "code",
   "execution_count": null,
   "id": "998a9751-b51f-422f-a3c2-b9254a3740ad",
   "metadata": {},
   "outputs": [],
   "source": [
    "warnings.filterwarnings(\"ignore\")\n",
    "os.environ[\"OPENAI_API_KEY\"] = creds.openai_api_key"
   ]
  },
  {
   "cell_type": "code",
   "execution_count": null,
   "id": "8ddd9182-1b02-4c2b-be7a-2f3317fde498",
   "metadata": {},
   "outputs": [],
   "source": [
    "llm = CH(model=\"gpt-4o-mini\", temperature=.03)"
   ]
  },
  {
   "cell_type": "code",
   "execution_count": null,
   "id": "a38f7573-6d7e-4917-98e0-347d7694b4dc",
   "metadata": {},
   "outputs": [],
   "source": [
    "tools = []"
   ]
  },
  {
   "cell_type": "code",
   "execution_count": null,
   "id": "43071a7a-a2bd-4c24-9c52-eadd6a292c38",
   "metadata": {},
   "outputs": [],
   "source": [
    "memory_proger = ConversationBufferMemory(memory_key=\"chat_history\")\n",
    "proger_agent = initialize_agent(\n",
    "    tools=tools,\n",
    "    llm=llm_max,\n",
    "    memory = memory_proger,\n",
    "    agent=AgentType.CONVERSATIONAL_REACT_DESCRIPTION,\n",
    "    verbose=True,\n",
    "    handle_parsing_errors=True\n",
    ")"
   ]
  },
  {
   "cell_type": "code",
   "execution_count": null,
   "id": "205c5a0a-8df6-4f76-8fdf-62c639a580ce",
   "metadata": {},
   "outputs": [],
   "source": [
    "query = \"\"\"Тебе дается описание агентской системы {desc} и граф связей между элементами {graph}.\n",
    "Тебе нужно написать код на языке Python, который будет реализовывать эту агентскую систему.\"\"\""
   ]
  },
  {
   "cell_type": "code",
   "execution_count": null,
   "id": "83b8e1c6-f8b5-4da9-86c8-42e2a0727710",
   "metadata": {},
   "outputs": [],
   "source": [
    "with open(\"new/best_support_desc_2.txt\", \"r\") as f:\n",
    "    desc = f.read()\n",
    "with open(\"new/best_support_graph_2.txt\", \"r\") as f:\n",
    "    graph = f.read()"
   ]
  },
  {
   "cell_type": "code",
   "execution_count": null,
   "id": "13963b60-b707-43c4-ad21-daee40af2426",
   "metadata": {},
   "outputs": [],
   "source": [
    "request = query.format(desc=desc, graph=graph)\n",
    "result = proger_agent.run(request)"
   ]
  },
  {
   "cell_type": "code",
   "execution_count": null,
   "id": "bf426ff0-51ee-48f0-96f3-f73d9c0f40bc",
   "metadata": {},
   "outputs": [],
   "source": [
    "result_2 = proger_agent.run(\"Убери сторонние системы, оставь только агентскую систему. Для создания агентов используй фреймворки langchain и langraph. Перепиши код.\")"
   ]
  }
 ],
 "metadata": {
  "kernelspec": {
   "display_name": "Python 3 (ipykernel)",
   "language": "python",
   "name": "python3"
  },
  "language_info": {
   "codemirror_mode": {
    "name": "ipython",
    "version": 3
   },
   "file_extension": ".py",
   "mimetype": "text/x-python",
   "name": "python",
   "nbconvert_exporter": "python",
   "pygments_lexer": "ipython3",
   "version": "3.10.12"
  }
 },
 "nbformat": 4,
 "nbformat_minor": 5
}
