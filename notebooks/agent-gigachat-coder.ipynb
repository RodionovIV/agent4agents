{
 "cells": [
  {
   "cell_type": "code",
   "execution_count": 2,
   "id": "ba01164a-d5ef-4f16-af10-1671cc1b728f",
   "metadata": {},
   "outputs": [],
   "source": [
    "from langchain.agents import initialize_agent, AgentType, Tool\n",
    "from langchain.memory import ConversationBufferMemory\n",
    "from langgraph.graph import StateGraph\n",
    "from langchain.chat_models import ChatOpenAI\n",
    "from langchain_gigachat.chat_models import GigaChat\n",
    "from langchain.schema import HumanMessage, SystemMessage, Document, AIMessage\n",
    "from langchain.vectorstores import FAISS\n",
    "from langchain.embeddings import SentenceTransformerEmbeddings\n",
    "from langchain.chains import RetrievalQA\n",
    "from langchain_community.tools import DuckDuckGoSearchRun\n",
    "from langgraph.types import Command\n",
    "from langgraph.prebuilt import create_react_agent\n",
    "from langgraph.checkpoint.memory import MemorySaver\n",
    "from langgraph.graph import StateGraph, END, MessagesState, START\n",
    "from typing import TypedDict, Optional, Literal, List, Dict\n",
    "from typing_extensions import TypedDict\n",
    "\n",
    "import datetime\n",
    "import warnings\n",
    "import os\n",
    "import re"
   ]
  },
  {
   "cell_type": "code",
   "execution_count": 3,
   "id": "5eb31aa3-2463-49bb-8bf5-6a2b54d81eca",
   "metadata": {},
   "outputs": [],
   "source": [
    "warnings.filterwarnings(\"ignore\")"
   ]
  },
  {
   "cell_type": "code",
   "execution_count": 4,
   "id": "240fadb1-44d0-40e4-b439-b043533ab1df",
   "metadata": {},
   "outputs": [],
   "source": [
    "os.environ[\"GIGACHAT_CREDENTIALS\"] = \"Yjc1YWZhNTItMzYwYS00NmU4LTk4YjctZjU4YzAwMDIyMGJmOjJhNWE3YmVhLTAyYzctNGJhNy05NWE3LWEzY2YwNGQzYzZiNw==\""
   ]
  },
  {
   "cell_type": "code",
   "execution_count": 5,
   "id": "da04112e-47f9-4889-85ec-9ddb41f2825f",
   "metadata": {},
   "outputs": [],
   "source": [
    "with open(\"../sources/code_base.md\", \"r\") as f:\n",
    "    code_base_template = f.read()\n",
    "with open(\"../sources/unit_test_base.md\", \"r\") as f:\n",
    "    unit_test_template = f.read()"
   ]
  },
  {
   "cell_type": "code",
   "execution_count": 25,
   "id": "a5efefeb-41fa-4d17-8f53-5bd9af9a845a",
   "metadata": {},
   "outputs": [],
   "source": [
    "llm = GigaChat(\n",
    "    model=\"GigaChat-2-Max\",\n",
    "    verify_ssl_certs=False,\n",
    "    profanity_check=False,\n",
    "    streaming=True,\n",
    "    max_tokens=8192,\n",
    "    temperature=0.3,\n",
    "    repetition_penalty=1.01,\n",
    "    timeout=60\n",
    ")"
   ]
  },
  {
   "cell_type": "code",
   "execution_count": 26,
   "id": "89e44c40-fdbf-4da3-958e-df8c7f417239",
   "metadata": {},
   "outputs": [],
   "source": [
    "coder_agent_prompt = \"\"\"Ты - Senior Python Developer. Твоя задача - написать web-приложение для агентской системы, которая выполняет следующую задачу: {task}.\n",
    "Для этого воспользуйся шаблоном: {code_template}. В этом шаблоне класс AgentSystem отвечает за логику работы системы, \n",
    "она должна быть прописана в методе run. Обертка вокруг этой логиги описана в FastAPI-приложении app. \n",
    "Логика должна запускаться после обращения к endpoint run_agent. Также необходимо прописать протоколы взаимодействия в pydantic классах AgentRequest и AgentResponse.\n",
    "\"\"\""
   ]
  },
  {
   "cell_type": "code",
   "execution_count": 33,
   "id": "67d06666-9d08-4387-9c03-2483e06fd4da",
   "metadata": {},
   "outputs": [],
   "source": [
    "tester_agent_prompt = \"\"\"Ты - Senior Python Developer. Твоя задача - написать unit-тесты для кода приложения {code}, которое выполняет следующую задачу: {task}.\n",
    "Для этого воспользуйся шаблоном: {unit_test_template}. Важно, чтобы интеграции были замоканы.\n",
    "\"\"\""
   ]
  },
  {
   "cell_type": "code",
   "execution_count": 34,
   "id": "50ba5a3f-74be-46b4-ac0a-a56a25592162",
   "metadata": {},
   "outputs": [],
   "source": [
    "tools = []\n",
    "coder_agent = create_react_agent(\n",
    "    llm,\n",
    "    tools,\n",
    "    checkpointer=MemorySaver()\n",
    ")\n",
    "\n",
    "tester_agent = create_react_agent(\n",
    "    llm,\n",
    "    tools,\n",
    "    checkpointer=MemorySaver()\n",
    ")"
   ]
  },
  {
   "cell_type": "code",
   "execution_count": 28,
   "id": "1f3c3c19-4648-4e48-b15f-801c2ebfaf10",
   "metadata": {},
   "outputs": [],
   "source": [
    "config = {\"configurable\": {\"thread_id\": \"thread_id2\"}}"
   ]
  },
  {
   "cell_type": "code",
   "execution_count": 29,
   "id": "1962e842-74cb-4f08-9b68-2d7592156d81",
   "metadata": {},
   "outputs": [],
   "source": [
    "task = \"\"\"Реализовать агента, который может складывать два числа.\"\"\""
   ]
  },
  {
   "cell_type": "code",
   "execution_count": 35,
   "id": "1e77666e-834b-4976-9cff-b84211fde83a",
   "metadata": {},
   "outputs": [],
   "source": [
    "with open(\"../sources/test_code.md\", \"r\") as f:\n",
    "    test_code = f.read()"
   ]
  },
  {
   "cell_type": "code",
   "execution_count": 30,
   "id": "06cdee3b-74b2-49ef-a4f5-59d08b94210f",
   "metadata": {},
   "outputs": [],
   "source": [
    "code_msg = coder_agent_prompt.format(\n",
    "    code_template=code_base_template,\n",
    "    task=task\n",
    ")\n",
    "code_task = {\n",
    "    \"messages\": [HumanMessage(content=code_msg)]\n",
    "}"
   ]
  },
  {
   "cell_type": "code",
   "execution_count": 37,
   "id": "f4885297-e5f9-4d4a-90db-7884d86ce085",
   "metadata": {},
   "outputs": [],
   "source": [
    "test_msg = tester_agent_prompt.format(\n",
    "    unit_test_template=unit_test_template,\n",
    "    task=task,\n",
    "    code=test_code\n",
    ")\n",
    "test_task = {\n",
    "    \"messages\": [HumanMessage(content=test_msg)]\n",
    "}"
   ]
  },
  {
   "cell_type": "code",
   "execution_count": 41,
   "id": "83b5c008-7d82-4e9d-b04f-4df912d059ac",
   "metadata": {},
   "outputs": [],
   "source": [
    "test_config = {\"configurable\": {\"thread_id\": \"thread_id4\"}}"
   ]
  },
  {
   "cell_type": "code",
   "execution_count": 42,
   "id": "2c175393-f891-4bb0-9038-c648b3805834",
   "metadata": {},
   "outputs": [],
   "source": [
    "tester_result = tester_agent.invoke(test_task, config=test_config)"
   ]
  },
  {
   "cell_type": "code",
   "execution_count": 43,
   "id": "74b02f93-85eb-4098-880e-e7e16127ce9b",
   "metadata": {},
   "outputs": [
    {
     "name": "stdout",
     "output_type": "stream",
     "text": [
      "Для корректного тестирования приложения на основе FastAPI и Pydantic, нужно учесть несколько моментов:\n",
      "\n",
      "1. Проверить успешное выполнение агента.\n",
      "2. Проверить обработку ошибок (например, когда агент возвращает ошибку).\n",
      "3. Проверить корректность обработки входных данных.\n",
      "\n",
      "Вот пример реализации unit-тестов для данного приложения:\n",
      "\n",
      "```python\n",
      "import pytest\n",
      "from unittest.mock import patch, MagicMock\n",
      "from fastapi import HTTPException\n",
      "from app.main import run_agent, AgentRequest, AgentResponse, AgentSystem\n",
      "\n",
      "# Тестирование успешного выполнения агента\n",
      "@pytest.mark.asyncio\n",
      "async def test_run_agent_success():\n",
      "    # Arrange\n",
      "    request_data = {\"num1\": 5.0, \"num2\": 3.0}\n",
      "    request = AgentRequest(**request_data)\n",
      "    expected_result = {\"status\": \"success\", \"result\": 8.0}\n",
      "\n",
      "    with patch.object(AgentSystem, \"run\", return_value=expected_result) as mock_agent_run:\n",
      "        # Act\n",
      "        response = await run_agent(request)\n",
      "\n",
      "        # Assert\n",
      "        assert isinstance(response, AgentResponse)\n",
      "        assert response.status == \"success\"\n",
      "        assert response.result == 8.0\n",
      "        mock_agent_run.assert_called_once_with(request.dict())\n",
      "\n",
      "# Тестирование обработки ошибки при отсутствии обязательных полей\n",
      "@pytest.mark.asyncio\n",
      "async def test_run_agent_missing_fields():\n",
      "    # Arrange\n",
      "    request_data = {\"num1\": 5.0}\n",
      "    request = AgentRequest(**request_data)\n",
      "\n",
      "    with patch.object(AgentSystem, \"run\", side_effect=HTTPException(status_code=400, detail=\"Оба числа должны быть указаны\")) as mock_agent_run:\n",
      "        # Act & Assert\n",
      "        with pytest.raises(HTTPException) as exc_info:\n",
      "            await run_agent(request)\n",
      "\n",
      "        assert exc_info.value.status_code == 400\n",
      "        assert exc_info.value.detail == \"Оба числа должны быть указаны\"\n",
      "        mock_agent_run.assert_called_once_with(request.dict())\n",
      "\n",
      "# Тестирование обработки внутренней ошибки\n",
      "@pytest.mark.asyncio\n",
      "async def test_run_agent_internal_error():\n",
      "    # Arrange\n",
      "    request_data = {\"num1\": 5.0, \"num2\": 3.0}\n",
      "    request = AgentRequest(**request_data)\n",
      "\n",
      "    with patch.object(AgentSystem, \"run\", side_effect=Exception(\"Internal error\")) as mock_agent_run:\n",
      "        # Act & Assert\n",
      "        with pytest.raises(HTTPException) as exc_info:\n",
      "            await run_agent(request)\n",
      "\n",
      "        assert exc_info.value.status_code == 500\n",
      "        assert \"Internal error\" in str(exc_info.value.detail)\n",
      "        mock_agent_run.assert_called_once_with(request.dict())\n",
      "```\n",
      "\n",
      "### Объяснение тестов:\n",
      "\n",
      "1. **test_run_agent_success**:\n",
      "   - Проверяет успешное выполнение агента, когда оба числа переданы корректно.\n",
      "   - Проверяет, что результат соответствует ожидаемому.\n",
      "\n",
      "2. **test_run_agent_missing_fields**:\n",
      "   - Проверяет обработку ситуации, когда одно из чисел не передано.\n",
      "   - Проверяет, что возвращается ошибка 400 с соответствующим сообщением.\n",
      "\n",
      "3. **test_run_agent_internal_error**:\n",
      "   - Проверяет обработку внутренней ошибки, когда агент вызывает исключение.\n",
      "   - Проверяет, что возвращается ошибка 500 с соответствующим сообщением.\n",
      "\n",
      "Эти тесты покрывают основные сценарии работы агента и позволяют убедиться, что приложение корректно обрабатывает как успешные, так и ошибочные ситуации.\n"
     ]
    }
   ],
   "source": [
    "print(tester_result[\"messages\"][1].content)"
   ]
  },
  {
   "cell_type": "code",
   "execution_count": 31,
   "id": "6f2d6daa-68d2-41cd-9885-4a9d87644bba",
   "metadata": {},
   "outputs": [],
   "source": [
    "result = coder_agent.invoke(task, config=config)"
   ]
  },
  {
   "cell_type": "code",
   "execution_count": 24,
   "id": "06116f8d-9de4-408a-b3c1-f0acc203d5cf",
   "metadata": {},
   "outputs": [
    {
     "name": "stdout",
     "output_type": "stream",
     "text": [
      "Вот как можно реализовать агента, который складывает два числа, используя предоставленный шаблон:\n",
      "\n",
      "```python\n",
      "# app/main.py\n",
      "from fastapi import FastAPI, HTTPException\n",
      "from pydantic import BaseModel\n",
      "\n",
      "app = FastAPI()\n",
      "\n",
      "# Реализация агента, который складывает два числа\n",
      "class AgentSystem:\n",
      "    def run(self, input_data: dict) -> dict:\n",
      "        # Проверяем, что в input_data есть оба числа\n",
      "        if \"num1\" not in input_data or \"num2\" not in input_data:\n",
      "            raise HTTPException(status_code=400, detail=\"Оба числа должны быть указаны\")\n",
      "        \n",
      "        # Складываем числа\n",
      "        result = input_data[\"num1\"] + input_data[\"num2\"]\n",
      "        \n",
      "        return {\"status\": \"success\", \"result\": result}\n",
      "\n",
      "agent = AgentSystem()\n",
      "\n",
      "# Протокол запроса к агенту\n",
      "class AgentRequest(BaseModel):\n",
      "    num1: float\n",
      "    num2: float\n",
      "\n",
      "# Протокол ответа от агента\n",
      "class AgentResponse(BaseModel):\n",
      "    status: str\n",
      "    result: float\n",
      "\n",
      "# Обработчик запроса к агенту\n",
      "@app.post(\"/run_agent\", response_model=AgentResponse)\n",
      "async def run_agent(request: AgentRequest):\n",
      "    try:\n",
      "        result = agent.run(request.dict())\n",
      "        return result\n",
      "    except Exception as e:\n",
      "        raise HTTPException(status_code=500, detail=str(e))\n",
      "```\n",
      "\n",
      "### Пояснение:\n",
      "\n",
      "1. **Класс `AgentSystem`**:\n",
      "   - Метод `run` принимает словарь с двумя числами (`num1` и `num2`), проверяет их наличие и складывает.\n",
      "   - Возвращает результат в виде словаря с ключами `status` и `result`.\n",
      "\n",
      "2. **Классы `AgentRequest` и `AgentResponse`**:\n",
      "   - `AgentRequest` описывает структуру входящего запроса (два числа).\n",
      "   - `AgentResponse` описывает структуру ответа (статус и результат сложения).\n",
      "\n",
      "3. **Обработчик `/run_agent`**:\n",
      "   - Принимает запрос, вызывает метод `run` агента и возвращает результат.\n",
      "   - Если возникает ошибка, возвращает HTTP-ошибку с соответствующим статусом.\n",
      "\n",
      "### Пример запроса:\n",
      "\n",
      "```bash\n",
      "curl -X POST \"http://localhost:8000/run_agent\" -H \"Content-Type: application/json\" -d '{\"num1\": 5, \"num2\": 7}'\n",
      "```\n",
      "\n",
      "### Пример ответа:\n",
      "\n",
      "```json\n",
      "{\n",
      "  \"status\": \"success\",\n",
      "  \"result\": 12\n",
      "}\n",
      "```\n",
      "\n",
      "Таким образом, агент успешно выполняет задачу сложения двух чисел и возвращает результат через API.\n"
     ]
    }
   ],
   "source": [
    "print(result[\"messages\"][1].content)"
   ]
  }
 ],
 "metadata": {
  "kernelspec": {
   "display_name": "Python 3 (ipykernel)",
   "language": "python",
   "name": "python3"
  },
  "language_info": {
   "codemirror_mode": {
    "name": "ipython",
    "version": 3
   },
   "file_extension": ".py",
   "mimetype": "text/x-python",
   "name": "python",
   "nbconvert_exporter": "python",
   "pygments_lexer": "ipython3",
   "version": "3.10.12"
  }
 },
 "nbformat": 4,
 "nbformat_minor": 5
}
