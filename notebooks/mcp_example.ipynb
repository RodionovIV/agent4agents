{
 "cells": [
  {
   "cell_type": "code",
   "execution_count": 2,
   "id": "035bf2a2-5ea1-4c6e-868b-f472e703de1e",
   "metadata": {},
   "outputs": [],
   "source": [
    "import os\n",
    "from credentials import Credentials\n",
    "creds = Credentials()\n",
    "os.environ[\"OPENAI_API_KEY\"] = creds.openai_api_key"
   ]
  },
  {
   "cell_type": "code",
   "execution_count": 8,
   "id": "88e3ce43-69a4-45a6-947f-434d1b844536",
   "metadata": {},
   "outputs": [],
   "source": [
    "from langchain.agents import initialize_agent, AgentType, Tool\n",
    "from langchain.memory import ConversationBufferMemory\n",
    "from langchain_mcp_adapters.tools import load_mcp_tools\n",
    "from langchain_mcp_adapters.client import MultiServerMCPClient"
   ]
  },
  {
   "cell_type": "code",
   "execution_count": 9,
   "id": "92e98976-e15e-43e4-b753-9f86dd8bb87f",
   "metadata": {},
   "outputs": [],
   "source": [
    "import warnings\n",
    "warnings.filterwarnings(\"ignore\")"
   ]
  },
  {
   "cell_type": "code",
   "execution_count": 1,
   "id": "692f7503-9837-462c-97d8-7a442ec6fad7",
   "metadata": {},
   "outputs": [],
   "source": [
    "from langchain.tools import tool\n",
    "import requests\n",
    "\n",
    "@tool\n",
    "def save_conversation_tool(conversation: str) -> str:\n",
    "    \"\"\"Сохраняет переданный текст с помощью MCP.\"\"\"\n",
    "    try:\n",
    "        response = requests.post(\n",
    "            \"http://localhost:8000/tools/save_conversation\",\n",
    "            json={\"conversation\": conversation}\n",
    "        )\n",
    "        return response.json().get(\"result\", \"Не удалось сохранить разговор.\")\n",
    "    except Exception as e:\n",
    "        return f\"Ошибка при обращении к MCP: {str(e)}\""
   ]
  },
  {
   "cell_type": "code",
   "execution_count": 10,
   "id": "c532e240-009d-4e29-81d3-4cad19da4b4c",
   "metadata": {},
   "outputs": [],
   "source": [
    "from langchain.agents import AgentExecutor, create_react_agent\n",
    "from langchain.chat_models import ChatOpenAI\n",
    "from langchain.prompts import PromptTemplate\n",
    "\n",
    "# Инициализация модели\n",
    "llm = ChatOpenAI(model_name=\"gpt-4.1-mini\", temperature=0)\n",
    "\n",
    "# Определение пользовательского инструмента\n",
    "tools = [save_conversation_tool]\n",
    "\n",
    "# Создание агента с использованием ReAct\n",
    "memory = ConversationBufferMemory(memory_key=\"chat_history\")\n",
    "agent = initialize_agent(\n",
    "    tools=tools,\n",
    "    llm=llm,\n",
    "    memory = memory,\n",
    "    agent=AgentType.CONVERSATIONAL_REACT_DESCRIPTION,\n",
    "    verbose=True,\n",
    "    handle_parsing_errors=True\n",
    ")"
   ]
  },
  {
   "cell_type": "code",
   "execution_count": 13,
   "id": "fe781767-9563-4dc7-85c1-085787805cc0",
   "metadata": {},
   "outputs": [
    {
     "name": "stdout",
     "output_type": "stream",
     "text": [
      "\n",
      "\n",
      "\u001b[1m> Entering new AgentExecutor chain...\u001b[0m\n",
      "\u001b[32;1m\u001b[1;3m```\n",
      "Thought: Do I need to use a tool? Yes\n",
      "Action: save_conversation_tool\n",
      "Action Input: Текст, который нужно сохранить\n",
      "```\u001b[0m\n",
      "Observation: \u001b[36;1m\u001b[1;3mОшибка при обращении к MCP: HTTPConnectionPool(host='localhost', port=8000): Max retries exceeded with url: /tools/save_conversation (Caused by NewConnectionError('<urllib3.connection.HTTPConnection object at 0x708c8c5ee0b0>: Failed to establish a new connection: [Errno 111] Connection refused'))\u001b[0m\n",
      "Thought:\u001b[32;1m\u001b[1;3mThought: Do I need to use a tool? No\n",
      "AI: К сожалению, сейчас не удаётся сохранить текст из-за технической ошибки при подключении к сервису. Могу ли я помочь вам с чем-то ещё?\u001b[0m\n",
      "\n",
      "\u001b[1m> Finished chain.\u001b[0m\n"
     ]
    },
    {
     "data": {
      "text/plain": [
       "{'input': \"Пожалуйста, сохрани следующий текст: 'Текст, который нужно сохранить'\",\n",
       " 'chat_history': '',\n",
       " 'output': 'К сожалению, сейчас не удаётся сохранить текст из-за технической ошибки при подключении к сервису. Могу ли я помочь вам с чем-то ещё?'}"
      ]
     },
     "execution_count": 13,
     "metadata": {},
     "output_type": "execute_result"
    }
   ],
   "source": [
    "# Пример использования\n",
    "agent.invoke({\"input\": \"Пожалуйста, сохрани следующий текст: 'Текст, который нужно сохранить'\"})"
   ]
  }
 ],
 "metadata": {
  "kernelspec": {
   "display_name": "Python 3 (ipykernel)",
   "language": "python",
   "name": "python3"
  },
  "language_info": {
   "codemirror_mode": {
    "name": "ipython",
    "version": 3
   },
   "file_extension": ".py",
   "mimetype": "text/x-python",
   "name": "python",
   "nbconvert_exporter": "python",
   "pygments_lexer": "ipython3",
   "version": "3.10.12"
  }
 },
 "nbformat": 4,
 "nbformat_minor": 5
}
